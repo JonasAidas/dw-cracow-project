{
 "cells": [
  {
   "cell_type": "code",
   "execution_count": 68,
   "metadata": {},
   "outputs": [],
   "source": [
    "import requests\n",
    "import pandas as pd\n",
    "import numpy as np\n",
    "import time\n",
    "\n",
    "from tqdm import tqdm\n",
    "\n",
    "import seaborn as sns\n",
    "import matplotlib\n",
    "import matplotlib.pyplot as plt\n",
    "\n",
    "matplotlib.rcParams['figure.figsize'] = (15, 5)\n",
    "plt.style.use('bmh')\n",
    "%matplotlib inline\n"
   ]
  },
  {
   "cell_type": "code",
   "execution_count": 8,
   "metadata": {},
   "outputs": [],
   "source": [
    "all_votes = pd.read_hdf('./all/all_of_them_clean.h5')\n",
    "kad8 = pd.read_hdf('./all/kad8.h5')"
   ]
  },
  {
   "cell_type": "code",
   "execution_count": 9,
   "metadata": {},
   "outputs": [
    {
     "name": "stdout",
     "output_type": "stream",
     "text": [
      "<class 'pandas.core.frame.DataFrame'>\n",
      "Int64Index: 3702730 entries, 2888640 to 6591369\n",
      "Data columns (total 8 columns):\n",
      "kadencja          float64\n",
      "partia            object\n",
      "osoba             object\n",
      "glos              object\n",
      "nr_posiedzenia    float64\n",
      "nr_glos           float64\n",
      "opis              object\n",
      "timestamp         datetime64[ns]\n",
      "dtypes: datetime64[ns](1), float64(3), object(4)\n",
      "memory usage: 254.2+ MB\n"
     ]
    }
   ],
   "source": [
    "kad8.info()"
   ]
  },
  {
   "cell_type": "code",
   "execution_count": 13,
   "metadata": {},
   "outputs": [
    {
     "data": {
      "text/plain": [
       "8.0    3702730\n",
       "7.0    2888640\n",
       "9.0      23000\n",
       "Name: kadencja, dtype: int64"
      ]
     },
     "execution_count": 13,
     "metadata": {},
     "output_type": "execute_result"
    }
   ],
   "source": [
    "all_votes['kadencja'].value_counts()"
   ]
  },
  {
   "cell_type": "code",
   "execution_count": null,
   "metadata": {},
   "outputs": [],
   "source": [
    "all_votes['kadencja'].value_counts()"
   ]
  },
  {
   "cell_type": "code",
   "execution_count": 17,
   "metadata": {},
   "outputs": [
    {
     "data": {
      "text/html": [
       "<div>\n",
       "<style scoped>\n",
       "    .dataframe tbody tr th:only-of-type {\n",
       "        vertical-align: middle;\n",
       "    }\n",
       "\n",
       "    .dataframe tbody tr th {\n",
       "        vertical-align: top;\n",
       "    }\n",
       "\n",
       "    .dataframe thead th {\n",
       "        text-align: right;\n",
       "    }\n",
       "</style>\n",
       "<table border=\"1\" class=\"dataframe\">\n",
       "  <thead>\n",
       "    <tr style=\"text-align: right;\">\n",
       "      <th></th>\n",
       "      <th>kadencja</th>\n",
       "      <th>partia</th>\n",
       "      <th>osoba</th>\n",
       "      <th>glos</th>\n",
       "      <th>nr_posiedzenia</th>\n",
       "      <th>nr_glos</th>\n",
       "      <th>opis</th>\n",
       "      <th>timestamp</th>\n",
       "    </tr>\n",
       "  </thead>\n",
       "  <tbody>\n",
       "    <tr>\n",
       "      <th>0</th>\n",
       "      <td>7.0</td>\n",
       "      <td>PO</td>\n",
       "      <td>Achinger Elżbieta</td>\n",
       "      <td>Nieobecny</td>\n",
       "      <td>102.0</td>\n",
       "      <td>1.0</td>\n",
       "      <td>102 posiedzenie Sejmu Rzeczypospolitej Polskie...</td>\n",
       "      <td>2015-10-08 09:06:44</td>\n",
       "    </tr>\n",
       "    <tr>\n",
       "      <th>1</th>\n",
       "      <td>7.0</td>\n",
       "      <td>PO</td>\n",
       "      <td>Arkit Tadeusz</td>\n",
       "      <td>Przeciw</td>\n",
       "      <td>102.0</td>\n",
       "      <td>1.0</td>\n",
       "      <td>102 posiedzenie Sejmu Rzeczypospolitej Polskie...</td>\n",
       "      <td>2015-10-08 09:06:44</td>\n",
       "    </tr>\n",
       "    <tr>\n",
       "      <th>2</th>\n",
       "      <td>7.0</td>\n",
       "      <td>PO</td>\n",
       "      <td>Arłukowicz Bartosz</td>\n",
       "      <td>Przeciw</td>\n",
       "      <td>102.0</td>\n",
       "      <td>1.0</td>\n",
       "      <td>102 posiedzenie Sejmu Rzeczypospolitej Polskie...</td>\n",
       "      <td>2015-10-08 09:06:44</td>\n",
       "    </tr>\n",
       "    <tr>\n",
       "      <th>3</th>\n",
       "      <td>7.0</td>\n",
       "      <td>PO</td>\n",
       "      <td>Arndt Paweł</td>\n",
       "      <td>Przeciw</td>\n",
       "      <td>102.0</td>\n",
       "      <td>1.0</td>\n",
       "      <td>102 posiedzenie Sejmu Rzeczypospolitej Polskie...</td>\n",
       "      <td>2015-10-08 09:06:44</td>\n",
       "    </tr>\n",
       "    <tr>\n",
       "      <th>4</th>\n",
       "      <td>7.0</td>\n",
       "      <td>PO</td>\n",
       "      <td>Augustyn Urszula</td>\n",
       "      <td>Przeciw</td>\n",
       "      <td>102.0</td>\n",
       "      <td>1.0</td>\n",
       "      <td>102 posiedzenie Sejmu Rzeczypospolitej Polskie...</td>\n",
       "      <td>2015-10-08 09:06:44</td>\n",
       "    </tr>\n",
       "  </tbody>\n",
       "</table>\n",
       "</div>"
      ],
      "text/plain": [
       "   kadencja partia               osoba       glos  nr_posiedzenia  nr_glos  \\\n",
       "0       7.0     PO   Achinger Elżbieta  Nieobecny           102.0      1.0   \n",
       "1       7.0     PO       Arkit Tadeusz    Przeciw           102.0      1.0   \n",
       "2       7.0     PO  Arłukowicz Bartosz    Przeciw           102.0      1.0   \n",
       "3       7.0     PO         Arndt Paweł    Przeciw           102.0      1.0   \n",
       "4       7.0     PO    Augustyn Urszula    Przeciw           102.0      1.0   \n",
       "\n",
       "                                                opis           timestamp  \n",
       "0  102 posiedzenie Sejmu Rzeczypospolitej Polskie... 2015-10-08 09:06:44  \n",
       "1  102 posiedzenie Sejmu Rzeczypospolitej Polskie... 2015-10-08 09:06:44  \n",
       "2  102 posiedzenie Sejmu Rzeczypospolitej Polskie... 2015-10-08 09:06:44  \n",
       "3  102 posiedzenie Sejmu Rzeczypospolitej Polskie... 2015-10-08 09:06:44  \n",
       "4  102 posiedzenie Sejmu Rzeczypospolitej Polskie... 2015-10-08 09:06:44  "
      ]
     },
     "execution_count": 17,
     "metadata": {},
     "output_type": "execute_result"
    }
   ],
   "source": [
    "all_votes.head()"
   ]
  },
  {
   "cell_type": "code",
   "execution_count": null,
   "metadata": {},
   "outputs": [],
   "source": []
  },
  {
   "cell_type": "markdown",
   "metadata": {},
   "source": [
    "# rozkład głosowań w miesiącach kolejnych lat"
   ]
  },
  {
   "cell_type": "code",
   "execution_count": 18,
   "metadata": {},
   "outputs": [
    {
     "data": {
      "text/plain": [
       "timestamp  timestamp\n",
       "2011       11            17464\n",
       "           12            17451\n",
       "2012       1            114540\n",
       "           2              2760\n",
       "           3             57040\n",
       "           4             32660\n",
       "           5             58420\n",
       "           6             35880\n",
       "           7             28520\n",
       "           8              9200\n",
       "           9             19320\n",
       "           10            54740\n",
       "           11            63940\n",
       "           12           165600\n",
       "2013       1             32660\n",
       "           2             14720\n",
       "           3             40480\n",
       "           4             67160\n",
       "           5             40480\n",
       "           6             65780\n",
       "           7             70840\n",
       "           8             39015\n",
       "           9             54740\n",
       "           10            50600\n",
       "           11            54740\n",
       "           12           120520\n",
       "2014       1             51060\n",
       "           2             31740\n",
       "           3             50515\n",
       "           4             55131\n",
       "                         ...  \n",
       "2017       4             62100\n",
       "           5             55142\n",
       "           6             61640\n",
       "           7            164680\n",
       "           9             51520\n",
       "           10            59340\n",
       "           11            99360\n",
       "           12           132020\n",
       "2018       1            267720\n",
       "           2             38180\n",
       "           3             91540\n",
       "           4             35880\n",
       "           5             51980\n",
       "           6             89688\n",
       "           7            235208\n",
       "           9             16100\n",
       "           10            66700\n",
       "           11            89451\n",
       "           12            63871\n",
       "2019       1            227700\n",
       "           2             61180\n",
       "           3             32200\n",
       "           4             59800\n",
       "           5             45080\n",
       "           6             60582\n",
       "           7            146280\n",
       "           8             21620\n",
       "           9             40480\n",
       "           10            17442\n",
       "           11            23000\n",
       "Name: timestamp, Length: 94, dtype: int64"
      ]
     },
     "execution_count": 18,
     "metadata": {},
     "output_type": "execute_result"
    }
   ],
   "source": [
    "all_votes['timestamp'].groupby([all_votes['timestamp'].dt.year, all_votes['timestamp'].dt.month]).count()"
   ]
  },
  {
   "cell_type": "code",
   "execution_count": 19,
   "metadata": {},
   "outputs": [],
   "source": [
    "aa = all_votes['timestamp'].groupby([all_votes['timestamp'].dt.year, all_votes['timestamp'].dt.month]).count()"
   ]
  },
  {
   "cell_type": "code",
   "execution_count": 21,
   "metadata": {},
   "outputs": [
    {
     "data": {
      "text/plain": [
       "pandas.core.series.Series"
      ]
     },
     "execution_count": 21,
     "metadata": {},
     "output_type": "execute_result"
    }
   ],
   "source": [
    "type(aa)"
   ]
  },
  {
   "cell_type": "code",
   "execution_count": 24,
   "metadata": {},
   "outputs": [
    {
     "data": {
      "text/plain": [
       "<matplotlib.axes._subplots.AxesSubplot at 0x7f85923eba58>"
      ]
     },
     "execution_count": 24,
     "metadata": {},
     "output_type": "execute_result"
    },
    {
     "data": {
      "image/png": "[encoded data removed]",
      "text/plain": [
       "<Figure size 1080x360 with 1 Axes>"
      ]
     },
     "metadata": {
      "needs_background": "light"
     },
     "output_type": "display_data"
    }
   ],
   "source": [
    "matplotlib.rcParams['figure.figsize'] = (15, 5)\n",
    "aa.plot.bar()"
   ]
  },
  {
   "cell_type": "markdown",
   "metadata": {},
   "source": [
    "# Ilość głosowań w poszczególnych latach"
   ]
  },
  {
   "cell_type": "code",
   "execution_count": 25,
   "metadata": {},
   "outputs": [
    {
     "data": {
      "text/plain": [
       "<matplotlib.axes._subplots.AxesSubplot at 0x7f859210b6d8>"
      ]
     },
     "execution_count": 25,
     "metadata": {},
     "output_type": "execute_result"
    },
    {
     "data": {
      "image/png": "[encoded data removed]",
      "text/plain": [
       "<Figure size 1080x360 with 1 Axes>"
      ]
     },
     "metadata": {
      "needs_background": "light"
     },
     "output_type": "display_data"
    }
   ],
   "source": [
    "all_votes['timestamp'].groupby([all_votes['timestamp'].dt.year]).count().plot.bar()"
   ]
  },
  {
   "cell_type": "markdown",
   "metadata": {},
   "source": [
    "# Ilość głosowań w poszczególnych godzinach"
   ]
  },
  {
   "cell_type": "code",
   "execution_count": 27,
   "metadata": {},
   "outputs": [
    {
     "data": {
      "text/plain": [
       "<matplotlib.axes._subplots.AxesSubplot at 0x7f8591fb76d8>"
      ]
     },
     "execution_count": 27,
     "metadata": {},
     "output_type": "execute_result"
    },
    {
     "data": {
      "image/png": "[encoded data removed]",
      "text/plain": [
       "<Figure size 1080x360 with 1 Axes>"
      ]
     },
     "metadata": {
      "needs_background": "light"
     },
     "output_type": "display_data"
    }
   ],
   "source": [
    "all_votes['timestamp'].groupby([ all_votes['timestamp'].dt.hour]).count().plot.bar()"
   ]
  },
  {
   "cell_type": "markdown",
   "metadata": {},
   "source": [
    "## Kolumny pomocnicze"
   ]
  },
  {
   "cell_type": "code",
   "execution_count": 56,
   "metadata": {},
   "outputs": [],
   "source": [
    "all_votes['day_of_week'] = all_votes['timestamp'].map(lambda x: x.weekday() )"
   ]
  },
  {
   "cell_type": "code",
   "execution_count": 57,
   "metadata": {},
   "outputs": [],
   "source": [
    "all_votes['hour'] = all_votes['timestamp'].map(lambda x: x.hour )"
   ]
  },
  {
   "cell_type": "code",
   "execution_count": 58,
   "metadata": {},
   "outputs": [],
   "source": [
    "all_votes['year'] = all_votes['timestamp'].map(lambda x: x.year )"
   ]
  },
  {
   "cell_type": "markdown",
   "metadata": {},
   "source": [
    "# Głosowania w poszczególnych dniach tygodnia poszczególnych lat"
   ]
  },
  {
   "cell_type": "code",
   "execution_count": 59,
   "metadata": {},
   "outputs": [
    {
     "data": {
      "text/html": [
       "<div>\n",
       "<style scoped>\n",
       "    .dataframe tbody tr th:only-of-type {\n",
       "        vertical-align: middle;\n",
       "    }\n",
       "\n",
       "    .dataframe tbody tr th {\n",
       "        vertical-align: top;\n",
       "    }\n",
       "\n",
       "    .dataframe thead tr th {\n",
       "        text-align: left;\n",
       "    }\n",
       "\n",
       "    .dataframe thead tr:last-of-type th {\n",
       "        text-align: right;\n",
       "    }\n",
       "</style>\n",
       "<table border=\"1\" class=\"dataframe\">\n",
       "  <thead>\n",
       "    <tr>\n",
       "      <th></th>\n",
       "      <th colspan=\"9\" halign=\"left\">timestamp</th>\n",
       "    </tr>\n",
       "    <tr>\n",
       "      <th>year</th>\n",
       "      <th>2011</th>\n",
       "      <th>2012</th>\n",
       "      <th>2013</th>\n",
       "      <th>2014</th>\n",
       "      <th>2015</th>\n",
       "      <th>2016</th>\n",
       "      <th>2017</th>\n",
       "      <th>2018</th>\n",
       "      <th>2019</th>\n",
       "    </tr>\n",
       "    <tr>\n",
       "      <th>day_of_week</th>\n",
       "      <th></th>\n",
       "      <th></th>\n",
       "      <th></th>\n",
       "      <th></th>\n",
       "      <th></th>\n",
       "      <th></th>\n",
       "      <th></th>\n",
       "      <th></th>\n",
       "      <th></th>\n",
       "    </tr>\n",
       "  </thead>\n",
       "  <tbody>\n",
       "    <tr>\n",
       "      <th>0</th>\n",
       "      <td>NaN</td>\n",
       "      <td>NaN</td>\n",
       "      <td>NaN</td>\n",
       "      <td>NaN</td>\n",
       "      <td>5056.0</td>\n",
       "      <td>18860.0</td>\n",
       "      <td>NaN</td>\n",
       "      <td>NaN</td>\n",
       "      <td>NaN</td>\n",
       "    </tr>\n",
       "    <tr>\n",
       "      <th>1</th>\n",
       "      <td>3664.0</td>\n",
       "      <td>6440.0</td>\n",
       "      <td>10116.0</td>\n",
       "      <td>41338.0</td>\n",
       "      <td>53358.0</td>\n",
       "      <td>49676.0</td>\n",
       "      <td>36340.0</td>\n",
       "      <td>145198.0</td>\n",
       "      <td>10580.0</td>\n",
       "    </tr>\n",
       "    <tr>\n",
       "      <th>2</th>\n",
       "      <td>2295.0</td>\n",
       "      <td>163300.0</td>\n",
       "      <td>27598.0</td>\n",
       "      <td>96899.0</td>\n",
       "      <td>172890.0</td>\n",
       "      <td>241461.0</td>\n",
       "      <td>55660.0</td>\n",
       "      <td>96997.0</td>\n",
       "      <td>311370.0</td>\n",
       "    </tr>\n",
       "    <tr>\n",
       "      <th>3</th>\n",
       "      <td>17475.0</td>\n",
       "      <td>34960.0</td>\n",
       "      <td>73140.0</td>\n",
       "      <td>75426.0</td>\n",
       "      <td>277209.0</td>\n",
       "      <td>270413.0</td>\n",
       "      <td>327434.0</td>\n",
       "      <td>522258.0</td>\n",
       "      <td>270814.0</td>\n",
       "    </tr>\n",
       "    <tr>\n",
       "      <th>4</th>\n",
       "      <td>8721.0</td>\n",
       "      <td>437920.0</td>\n",
       "      <td>540881.0</td>\n",
       "      <td>497377.0</td>\n",
       "      <td>486473.0</td>\n",
       "      <td>412988.0</td>\n",
       "      <td>384560.0</td>\n",
       "      <td>281865.0</td>\n",
       "      <td>142600.0</td>\n",
       "    </tr>\n",
       "    <tr>\n",
       "      <th>5</th>\n",
       "      <td>2760.0</td>\n",
       "      <td>NaN</td>\n",
       "      <td>NaN</td>\n",
       "      <td>NaN</td>\n",
       "      <td>NaN</td>\n",
       "      <td>NaN</td>\n",
       "      <td>NaN</td>\n",
       "      <td>NaN</td>\n",
       "      <td>NaN</td>\n",
       "    </tr>\n",
       "  </tbody>\n",
       "</table>\n",
       "</div>"
      ],
      "text/plain": [
       "            timestamp                                                    \\\n",
       "year             2011      2012      2013      2014      2015      2016   \n",
       "day_of_week                                                               \n",
       "0                 NaN       NaN       NaN       NaN    5056.0   18860.0   \n",
       "1              3664.0    6440.0   10116.0   41338.0   53358.0   49676.0   \n",
       "2              2295.0  163300.0   27598.0   96899.0  172890.0  241461.0   \n",
       "3             17475.0   34960.0   73140.0   75426.0  277209.0  270413.0   \n",
       "4              8721.0  437920.0  540881.0  497377.0  486473.0  412988.0   \n",
       "5              2760.0       NaN       NaN       NaN       NaN       NaN   \n",
       "\n",
       "                                           \n",
       "year             2017      2018      2019  \n",
       "day_of_week                                \n",
       "0                 NaN       NaN       NaN  \n",
       "1             36340.0  145198.0   10580.0  \n",
       "2             55660.0   96997.0  311370.0  \n",
       "3            327434.0  522258.0  270814.0  \n",
       "4            384560.0  281865.0  142600.0  \n",
       "5                 NaN       NaN       NaN  "
      ]
     },
     "execution_count": 59,
     "metadata": {},
     "output_type": "execute_result"
    }
   ],
   "source": [
    "df = all_votes[['day_of_week', 'year', 'timestamp']].groupby(['day_of_week', 'year']).count()\n",
    "m = df.unstack()\n",
    "m"
   ]
  },
  {
   "cell_type": "code",
   "execution_count": 75,
   "metadata": {},
   "outputs": [
    {
     "data": {
      "image/png": "[encoded data removed]",
      "text/plain": [
       "<Figure size 1080x720 with 2 Axes>"
      ]
     },
     "metadata": {
      "needs_background": "light"
     },
     "output_type": "display_data"
    }
   ],
   "source": [
    "# plot a heat map\n",
    "plt.figure(figsize=(15, 10))\n",
    "y = np.array([0,1,2,3,4,5,6,7])\n",
    "x = np.array([2011, 2012, 2013, 2014, 2015, 2016, 2017, 2018, 2019])\n",
    "my_yticks = ['Poniedziałek','Wtorek','Środa','Czwartek','Piątek','Sobota','Niedziela','']\n",
    "my_xticks = ['2011', '2012', '2013', '2014', '2015', '2016', '2017', '2018', '2019', '']\n",
    "plt.yticks(y, my_yticks)\n",
    "plt.xticks(x, my_xticks)\n",
    "plt.pcolor(m, cmap='Blues')\n",
    "plt.colorbar()\n",
    "plt.show()"
   ]
  },
  {
   "cell_type": "markdown",
   "metadata": {},
   "source": [
    "# Głosowania w poszczególnych godzinach poszczególnych lat"
   ]
  },
  {
   "cell_type": "code",
   "execution_count": 76,
   "metadata": {},
   "outputs": [
    {
     "data": {
      "text/html": [
       "<div>\n",
       "<style scoped>\n",
       "    .dataframe tbody tr th:only-of-type {\n",
       "        vertical-align: middle;\n",
       "    }\n",
       "\n",
       "    .dataframe tbody tr th {\n",
       "        vertical-align: top;\n",
       "    }\n",
       "\n",
       "    .dataframe thead tr th {\n",
       "        text-align: left;\n",
       "    }\n",
       "\n",
       "    .dataframe thead tr:last-of-type th {\n",
       "        text-align: right;\n",
       "    }\n",
       "</style>\n",
       "<table border=\"1\" class=\"dataframe\">\n",
       "  <thead>\n",
       "    <tr>\n",
       "      <th></th>\n",
       "      <th colspan=\"9\" halign=\"left\">timestamp</th>\n",
       "    </tr>\n",
       "    <tr>\n",
       "      <th>year</th>\n",
       "      <th>2011</th>\n",
       "      <th>2012</th>\n",
       "      <th>2013</th>\n",
       "      <th>2014</th>\n",
       "      <th>2015</th>\n",
       "      <th>2016</th>\n",
       "      <th>2017</th>\n",
       "      <th>2018</th>\n",
       "      <th>2019</th>\n",
       "    </tr>\n",
       "    <tr>\n",
       "      <th>hour</th>\n",
       "      <th></th>\n",
       "      <th></th>\n",
       "      <th></th>\n",
       "      <th></th>\n",
       "      <th></th>\n",
       "      <th></th>\n",
       "      <th></th>\n",
       "      <th></th>\n",
       "      <th></th>\n",
       "    </tr>\n",
       "  </thead>\n",
       "  <tbody>\n",
       "    <tr>\n",
       "      <th>0</th>\n",
       "      <td>NaN</td>\n",
       "      <td>9200.0</td>\n",
       "      <td>NaN</td>\n",
       "      <td>3178.0</td>\n",
       "      <td>7804.0</td>\n",
       "      <td>67620.0</td>\n",
       "      <td>920.0</td>\n",
       "      <td>8280.0</td>\n",
       "      <td>25300.0</td>\n",
       "    </tr>\n",
       "    <tr>\n",
       "      <th>1</th>\n",
       "      <td>NaN</td>\n",
       "      <td>NaN</td>\n",
       "      <td>NaN</td>\n",
       "      <td>NaN</td>\n",
       "      <td>919.0</td>\n",
       "      <td>31740.0</td>\n",
       "      <td>NaN</td>\n",
       "      <td>NaN</td>\n",
       "      <td>21620.0</td>\n",
       "    </tr>\n",
       "    <tr>\n",
       "      <th>2</th>\n",
       "      <td>NaN</td>\n",
       "      <td>NaN</td>\n",
       "      <td>NaN</td>\n",
       "      <td>NaN</td>\n",
       "      <td>NaN</td>\n",
       "      <td>1380.0</td>\n",
       "      <td>NaN</td>\n",
       "      <td>NaN</td>\n",
       "      <td>4140.0</td>\n",
       "    </tr>\n",
       "    <tr>\n",
       "      <th>9</th>\n",
       "      <td>13775.0</td>\n",
       "      <td>129720.0</td>\n",
       "      <td>149937.0</td>\n",
       "      <td>230300.0</td>\n",
       "      <td>250531.0</td>\n",
       "      <td>134298.0</td>\n",
       "      <td>60718.0</td>\n",
       "      <td>72979.0</td>\n",
       "      <td>1380.0</td>\n",
       "    </tr>\n",
       "    <tr>\n",
       "      <th>10</th>\n",
       "      <td>5060.0</td>\n",
       "      <td>97060.0</td>\n",
       "      <td>88313.0</td>\n",
       "      <td>169861.0</td>\n",
       "      <td>167832.0</td>\n",
       "      <td>85082.0</td>\n",
       "      <td>98900.0</td>\n",
       "      <td>127143.0</td>\n",
       "      <td>68988.0</td>\n",
       "    </tr>\n",
       "    <tr>\n",
       "      <th>11</th>\n",
       "      <td>919.0</td>\n",
       "      <td>41860.0</td>\n",
       "      <td>108984.0</td>\n",
       "      <td>96793.0</td>\n",
       "      <td>102577.0</td>\n",
       "      <td>91054.0</td>\n",
       "      <td>91540.0</td>\n",
       "      <td>95038.0</td>\n",
       "      <td>106260.0</td>\n",
       "    </tr>\n",
       "    <tr>\n",
       "      <th>12</th>\n",
       "      <td>9660.0</td>\n",
       "      <td>45080.0</td>\n",
       "      <td>107167.0</td>\n",
       "      <td>30244.0</td>\n",
       "      <td>86940.0</td>\n",
       "      <td>92433.0</td>\n",
       "      <td>73600.0</td>\n",
       "      <td>106364.0</td>\n",
       "      <td>93380.0</td>\n",
       "    </tr>\n",
       "    <tr>\n",
       "      <th>13</th>\n",
       "      <td>458.0</td>\n",
       "      <td>40480.0</td>\n",
       "      <td>48756.0</td>\n",
       "      <td>41848.0</td>\n",
       "      <td>40938.0</td>\n",
       "      <td>48735.0</td>\n",
       "      <td>68514.0</td>\n",
       "      <td>45471.0</td>\n",
       "      <td>37720.0</td>\n",
       "    </tr>\n",
       "    <tr>\n",
       "      <th>14</th>\n",
       "      <td>NaN</td>\n",
       "      <td>56120.0</td>\n",
       "      <td>12880.0</td>\n",
       "      <td>30358.0</td>\n",
       "      <td>11039.0</td>\n",
       "      <td>37698.0</td>\n",
       "      <td>45050.0</td>\n",
       "      <td>37235.0</td>\n",
       "      <td>47840.0</td>\n",
       "    </tr>\n",
       "    <tr>\n",
       "      <th>15</th>\n",
       "      <td>460.0</td>\n",
       "      <td>47380.0</td>\n",
       "      <td>17480.0</td>\n",
       "      <td>NaN</td>\n",
       "      <td>26220.0</td>\n",
       "      <td>12880.0</td>\n",
       "      <td>32200.0</td>\n",
       "      <td>45974.0</td>\n",
       "      <td>18400.0</td>\n",
       "    </tr>\n",
       "    <tr>\n",
       "      <th>16</th>\n",
       "      <td>458.0</td>\n",
       "      <td>46000.0</td>\n",
       "      <td>23000.0</td>\n",
       "      <td>13773.0</td>\n",
       "      <td>30794.0</td>\n",
       "      <td>14256.0</td>\n",
       "      <td>21160.0</td>\n",
       "      <td>69916.0</td>\n",
       "      <td>3680.0</td>\n",
       "    </tr>\n",
       "    <tr>\n",
       "      <th>17</th>\n",
       "      <td>3667.0</td>\n",
       "      <td>36340.0</td>\n",
       "      <td>5060.0</td>\n",
       "      <td>12854.0</td>\n",
       "      <td>17011.0</td>\n",
       "      <td>21141.0</td>\n",
       "      <td>39100.0</td>\n",
       "      <td>59328.0</td>\n",
       "      <td>10559.0</td>\n",
       "    </tr>\n",
       "    <tr>\n",
       "      <th>18</th>\n",
       "      <td>458.0</td>\n",
       "      <td>76360.0</td>\n",
       "      <td>920.0</td>\n",
       "      <td>6431.0</td>\n",
       "      <td>10114.0</td>\n",
       "      <td>25300.0</td>\n",
       "      <td>30350.0</td>\n",
       "      <td>60679.0</td>\n",
       "      <td>19303.0</td>\n",
       "    </tr>\n",
       "    <tr>\n",
       "      <th>19</th>\n",
       "      <td>NaN</td>\n",
       "      <td>11500.0</td>\n",
       "      <td>NaN</td>\n",
       "      <td>920.0</td>\n",
       "      <td>29882.0</td>\n",
       "      <td>52882.0</td>\n",
       "      <td>61625.0</td>\n",
       "      <td>72567.0</td>\n",
       "      <td>21620.0</td>\n",
       "    </tr>\n",
       "    <tr>\n",
       "      <th>20</th>\n",
       "      <td>NaN</td>\n",
       "      <td>5520.0</td>\n",
       "      <td>29438.0</td>\n",
       "      <td>1380.0</td>\n",
       "      <td>34957.0</td>\n",
       "      <td>109006.0</td>\n",
       "      <td>63477.0</td>\n",
       "      <td>67972.0</td>\n",
       "      <td>56546.0</td>\n",
       "    </tr>\n",
       "    <tr>\n",
       "      <th>21</th>\n",
       "      <td>NaN</td>\n",
       "      <td>NaN</td>\n",
       "      <td>40940.0</td>\n",
       "      <td>2270.0</td>\n",
       "      <td>102521.0</td>\n",
       "      <td>94753.0</td>\n",
       "      <td>57500.0</td>\n",
       "      <td>43175.0</td>\n",
       "      <td>83684.0</td>\n",
       "    </tr>\n",
       "    <tr>\n",
       "      <th>22</th>\n",
       "      <td>NaN</td>\n",
       "      <td>NaN</td>\n",
       "      <td>18860.0</td>\n",
       "      <td>45406.0</td>\n",
       "      <td>52848.0</td>\n",
       "      <td>36800.0</td>\n",
       "      <td>41400.0</td>\n",
       "      <td>68004.0</td>\n",
       "      <td>82751.0</td>\n",
       "    </tr>\n",
       "    <tr>\n",
       "      <th>23</th>\n",
       "      <td>NaN</td>\n",
       "      <td>NaN</td>\n",
       "      <td>NaN</td>\n",
       "      <td>25424.0</td>\n",
       "      <td>22059.0</td>\n",
       "      <td>36340.0</td>\n",
       "      <td>17940.0</td>\n",
       "      <td>66193.0</td>\n",
       "      <td>32193.0</td>\n",
       "    </tr>\n",
       "  </tbody>\n",
       "</table>\n",
       "</div>"
      ],
      "text/plain": [
       "     timestamp                                                             \\\n",
       "year      2011      2012      2013      2014      2015      2016     2017   \n",
       "hour                                                                        \n",
       "0          NaN    9200.0       NaN    3178.0    7804.0   67620.0    920.0   \n",
       "1          NaN       NaN       NaN       NaN     919.0   31740.0      NaN   \n",
       "2          NaN       NaN       NaN       NaN       NaN    1380.0      NaN   \n",
       "9      13775.0  129720.0  149937.0  230300.0  250531.0  134298.0  60718.0   \n",
       "10      5060.0   97060.0   88313.0  169861.0  167832.0   85082.0  98900.0   \n",
       "11       919.0   41860.0  108984.0   96793.0  102577.0   91054.0  91540.0   \n",
       "12      9660.0   45080.0  107167.0   30244.0   86940.0   92433.0  73600.0   \n",
       "13       458.0   40480.0   48756.0   41848.0   40938.0   48735.0  68514.0   \n",
       "14         NaN   56120.0   12880.0   30358.0   11039.0   37698.0  45050.0   \n",
       "15       460.0   47380.0   17480.0       NaN   26220.0   12880.0  32200.0   \n",
       "16       458.0   46000.0   23000.0   13773.0   30794.0   14256.0  21160.0   \n",
       "17      3667.0   36340.0    5060.0   12854.0   17011.0   21141.0  39100.0   \n",
       "18       458.0   76360.0     920.0    6431.0   10114.0   25300.0  30350.0   \n",
       "19         NaN   11500.0       NaN     920.0   29882.0   52882.0  61625.0   \n",
       "20         NaN    5520.0   29438.0    1380.0   34957.0  109006.0  63477.0   \n",
       "21         NaN       NaN   40940.0    2270.0  102521.0   94753.0  57500.0   \n",
       "22         NaN       NaN   18860.0   45406.0   52848.0   36800.0  41400.0   \n",
       "23         NaN       NaN       NaN   25424.0   22059.0   36340.0  17940.0   \n",
       "\n",
       "                          \n",
       "year      2018      2019  \n",
       "hour                      \n",
       "0       8280.0   25300.0  \n",
       "1          NaN   21620.0  \n",
       "2          NaN    4140.0  \n",
       "9      72979.0    1380.0  \n",
       "10    127143.0   68988.0  \n",
       "11     95038.0  106260.0  \n",
       "12    106364.0   93380.0  \n",
       "13     45471.0   37720.0  \n",
       "14     37235.0   47840.0  \n",
       "15     45974.0   18400.0  \n",
       "16     69916.0    3680.0  \n",
       "17     59328.0   10559.0  \n",
       "18     60679.0   19303.0  \n",
       "19     72567.0   21620.0  \n",
       "20     67972.0   56546.0  \n",
       "21     43175.0   83684.0  \n",
       "22     68004.0   82751.0  \n",
       "23     66193.0   32193.0  "
      ]
     },
     "execution_count": 76,
     "metadata": {},
     "output_type": "execute_result"
    }
   ],
   "source": [
    "df = all_votes[['hour', 'year', 'timestamp']].groupby(['hour', 'year']).count()\n",
    "h = df.unstack()\n",
    "h"
   ]
  },
  {
   "cell_type": "code",
   "execution_count": 85,
   "metadata": {},
   "outputs": [
    {
     "data": {
      "image/png": "[encoded data removed]",
      "text/plain": [
       "<Figure size 1080x1080 with 2 Axes>"
      ]
     },
     "metadata": {
      "needs_background": "light"
     },
     "output_type": "display_data"
    }
   ],
   "source": [
    "# plot a heat map\n",
    "plt.figure(figsize=(15, 15))\n",
    "y = np.array([0,1,2,3,4,5, 6, 7, 8, 9, 10, 11, 12, 13, 14, 15, 16, 17])\n",
    "my_yticks = ['0','1','2','9','10','11','12','13','14','15','16','17','18','19','20','21','22','23','']\n",
    "plt.yticks(y, my_yticks)\n",
    "plt.pcolor(h, cmap='Blues')\n",
    "plt.colorbar()\n",
    "plt.show()"
   ]
  },
  {
   "cell_type": "markdown",
   "metadata": {},
   "source": [
    "# Rozkład głosów"
   ]
  },
  {
   "cell_type": "code",
   "execution_count": 90,
   "metadata": {},
   "outputs": [
    {
     "data": {
      "text/plain": [
       "Przeciw          3044158\n",
       "Za               2861102\n",
       "Nieobecny         466193\n",
       "Wstrzymał się     242917\n",
       "Name: glos, dtype: int64"
      ]
     },
     "execution_count": 90,
     "metadata": {},
     "output_type": "execute_result"
    }
   ],
   "source": [
    "all_votes['glos'].value_counts()"
   ]
  },
  {
   "cell_type": "markdown",
   "metadata": {},
   "source": [
    "## Rozkład głosów w poszczególnych godzinach"
   ]
  },
  {
   "cell_type": "code",
   "execution_count": 91,
   "metadata": {},
   "outputs": [
    {
     "data": {
      "text/plain": [
       "glos           hour\n",
       "Nieobecny      0         7044\n",
       "               1         3988\n",
       "               2          619\n",
       "               9        63845\n",
       "               10       64709\n",
       "               11       52323\n",
       "               12       48363\n",
       "               13       29188\n",
       "               14       21243\n",
       "               15       16643\n",
       "               16       15102\n",
       "               17       14779\n",
       "               18       13720\n",
       "               19       20446\n",
       "               20       30893\n",
       "               21       29415\n",
       "               22       22464\n",
       "               23       11409\n",
       "Przeciw        0        56207\n",
       "               1        23902\n",
       "               2         2883\n",
       "               9       439279\n",
       "               10      395122\n",
       "               11      341610\n",
       "               12      323213\n",
       "               13      186245\n",
       "               14      147830\n",
       "               15       91127\n",
       "               16      105682\n",
       "               17       94117\n",
       "                        ...  \n",
       "Wstrzymał się  12       16508\n",
       "               13        8691\n",
       "               14        7380\n",
       "               15        9908\n",
       "               16       10399\n",
       "               17        7219\n",
       "               18        7578\n",
       "               19        7631\n",
       "               20       10193\n",
       "               21       12815\n",
       "               22       11335\n",
       "               23        8791\n",
       "Za             0        52806\n",
       "               1        23959\n",
       "               2         1888\n",
       "               9       490542\n",
       "               10      410989\n",
       "               11      312819\n",
       "               12      256784\n",
       "               13      148796\n",
       "               14      101767\n",
       "               15       83316\n",
       "               16       91854\n",
       "               17       88945\n",
       "               18      103525\n",
       "               19      128053\n",
       "               20      156919\n",
       "               21      161957\n",
       "               22      148062\n",
       "               23       98121\n",
       "Name: timestamp, Length: 72, dtype: int64"
      ]
     },
     "execution_count": 91,
     "metadata": {},
     "output_type": "execute_result"
    }
   ],
   "source": [
    "all_votes['timestamp'].groupby([all_votes['glos'], all_votes['hour']]).count()"
   ]
  },
  {
   "cell_type": "code",
   "execution_count": 104,
   "metadata": {},
   "outputs": [
    {
     "data": {
      "text/plain": [
       "{'Nieobecny': [7044,\n",
       "  3988,\n",
       "  619,\n",
       "  0,\n",
       "  0,\n",
       "  0,\n",
       "  0,\n",
       "  0,\n",
       "  0,\n",
       "  63845,\n",
       "  64709,\n",
       "  52323,\n",
       "  48363,\n",
       "  29188,\n",
       "  21243,\n",
       "  16643,\n",
       "  15102,\n",
       "  14779,\n",
       "  13720,\n",
       "  20446,\n",
       "  30893,\n",
       "  29415,\n",
       "  22464,\n",
       "  11409],\n",
       " 'Przeciw': [56207,\n",
       "  23902,\n",
       "  2883,\n",
       "  0,\n",
       "  0,\n",
       "  0,\n",
       "  0,\n",
       "  0,\n",
       "  0,\n",
       "  439279,\n",
       "  395122,\n",
       "  341610,\n",
       "  323213,\n",
       "  186245,\n",
       "  147830,\n",
       "  91127,\n",
       "  105682,\n",
       "  94117,\n",
       "  105092,\n",
       "  94866,\n",
       "  170291,\n",
       "  220656,\n",
       "  164208,\n",
       "  81828],\n",
       " 'Wstrzymał się': [6245,\n",
       "  2430,\n",
       "  130,\n",
       "  0,\n",
       "  0,\n",
       "  0,\n",
       "  0,\n",
       "  0,\n",
       "  0,\n",
       "  49972,\n",
       "  37419,\n",
       "  28273,\n",
       "  16508,\n",
       "  8691,\n",
       "  7380,\n",
       "  9908,\n",
       "  10399,\n",
       "  7219,\n",
       "  7578,\n",
       "  7631,\n",
       "  10193,\n",
       "  12815,\n",
       "  11335,\n",
       "  8791],\n",
       " 'Za': [52806,\n",
       "  23959,\n",
       "  1888,\n",
       "  0,\n",
       "  0,\n",
       "  0,\n",
       "  0,\n",
       "  0,\n",
       "  0,\n",
       "  490542,\n",
       "  410989,\n",
       "  312819,\n",
       "  256784,\n",
       "  148796,\n",
       "  101767,\n",
       "  83316,\n",
       "  91854,\n",
       "  88945,\n",
       "  103525,\n",
       "  128053,\n",
       "  156919,\n",
       "  161957,\n",
       "  148062,\n",
       "  98121]}"
      ]
     },
     "execution_count": 104,
     "metadata": {},
     "output_type": "execute_result"
    }
   ],
   "source": [
    "wyniki = {\n",
    "    'Nieobecny':[],\n",
    "    'Przeciw':[], \n",
    "    'Wstrzymał się':[], \n",
    "    'Za':[]\n",
    "}\n",
    "\n",
    "for gl in ['Nieobecny', 'Przeciw', 'Wstrzymał się', 'Za']:\n",
    "    for hh in range(0,24):\n",
    "        wyniki[gl].append( all_votes[ (all_votes['hour'] == hh) & (all_votes['glos'] == gl) ].shape[0] ) \n",
    "        \n",
    "wyniki"
   ]
  },
  {
   "cell_type": "markdown",
   "metadata": {},
   "source": [
    "# Rozkład udziału głosów w poszczególnych godzinach"
   ]
  },
  {
   "cell_type": "code",
   "execution_count": 111,
   "metadata": {},
   "outputs": [
    {
     "data": {
      "text/plain": [
       "[<matplotlib.lines.Line2D at 0x7f8597553a20>]"
      ]
     },
     "execution_count": 111,
     "metadata": {},
     "output_type": "execute_result"
    },
    {
     "data": {
      "image/png": "[encoded data removed]",
      "text/plain": [
       "<Figure size 1080x504 with 1 Axes>"
      ]
     },
     "metadata": {
      "needs_background": "light"
     },
     "output_type": "display_data"
    }
   ],
   "source": [
    "hours = [0,1,2,3,4,5, 6, 7, 8, 9, 10, 11, 12, 13, 14, 15, 16, 17, 18, 19, 20, 21, 22, 23]\n",
    "\n",
    "plt.figure(figsize=(15, 7))\n",
    "plt.plot(hours, wyniki['Za'], color='green')\n",
    "plt.plot(hours, wyniki['Przeciw'], color='red')\n",
    "plt.plot(hours, wyniki['Wstrzymał się'], color='blue')\n",
    "plt.plot(hours, wyniki['Nieobecny'], color='gray')"
   ]
  },
  {
   "cell_type": "code",
   "execution_count": 112,
   "metadata": {},
   "outputs": [
    {
     "data": {
      "text/plain": [
       "{'Nieobecny': [1514, 25665, 83731, 142884, 212287, 112, 0],\n",
       " 'Przeciw': [8864, 144106, 542289, 870456, 1477953, 490, 0],\n",
       " 'Wstrzymał się': [232, 11485, 41135, 57315, 132547, 203, 0],\n",
       " 'Za': [13306, 175454, 501315, 798474, 1370598, 1955, 0]}"
      ]
     },
     "execution_count": 112,
     "metadata": {},
     "output_type": "execute_result"
    }
   ],
   "source": [
    "wyniki_dow = {\n",
    "    'Nieobecny':[],\n",
    "    'Przeciw':[], \n",
    "    'Wstrzymał się':[], \n",
    "    'Za':[]\n",
    "}\n",
    "\n",
    "for gl in ['Nieobecny', 'Przeciw', 'Wstrzymał się', 'Za']:\n",
    "    for hh in range(0,7):\n",
    "        wyniki_dow[gl].append( all_votes[ (all_votes['day_of_week'] == hh) & (all_votes['glos'] == gl) ].shape[0] ) \n",
    "        \n",
    "wyniki_dow"
   ]
  },
  {
   "cell_type": "markdown",
   "metadata": {},
   "source": [
    "# Rozkład udziału głosów w poszczególnych dniach tygodnia"
   ]
  },
  {
   "cell_type": "code",
   "execution_count": 114,
   "metadata": {},
   "outputs": [
    {
     "data": {
      "text/plain": [
       "[<matplotlib.lines.Line2D at 0x7f8596f9cb70>]"
      ]
     },
     "execution_count": 114,
     "metadata": {},
     "output_type": "execute_result"
    },
    {
     "data": {
      "image/png": "[encoded data removed]",
      "text/plain": [
       "<Figure size 1080x504 with 1 Axes>"
      ]
     },
     "metadata": {
      "needs_background": "light"
     },
     "output_type": "display_data"
    }
   ],
   "source": [
    "days = [0,1,2,3,4,5,6]\n",
    "\n",
    "plt.figure(figsize=(15, 7))\n",
    "plt.plot(days, wyniki_dow['Za'], color='green')\n",
    "plt.plot(days, wyniki_dow['Przeciw'], color='red')\n",
    "plt.plot(days, wyniki_dow['Wstrzymał się'], color='blue')\n",
    "plt.plot(days, wyniki_dow['Nieobecny'], color='gray')"
   ]
  },
  {
   "cell_type": "markdown",
   "metadata": {},
   "source": [
    "# Rekordziści w nieobecnościach"
   ]
  },
  {
   "cell_type": "code",
   "execution_count": 118,
   "metadata": {},
   "outputs": [
    {
     "data": {
      "text/plain": [
       "Zembala Marian                4300\n",
       "Górski Artur                  3550\n",
       "Lipiński Adam                 3336\n",
       "Pasławska Urszula             2847\n",
       "Raczak Grzegorz               2818\n",
       "Morawiecki Kornel             2772\n",
       "Korzeniowski Leszek           2752\n",
       "Kłopotek Eugeniusz            2741\n",
       "Wilk Jacek                    2710\n",
       "Malik Ewa                     2622\n",
       "Bukiewicz Bożenna             2607\n",
       "Kaczyński Jarosław            2578\n",
       "Jurgiel Krzysztof             2442\n",
       "Zgorzelski Piotr              2425\n",
       "Sawicki Marek                 2275\n",
       "Lenz Tomasz                   2252\n",
       "Maliszewski Mirosław          2210\n",
       "Gawłowski Stanisław           2182\n",
       "Szydło Beata                  2155\n",
       "Waszczykowski Witold          2134\n",
       "Kulesza Jakub                 2106\n",
       "Brudziński Joachim            2103\n",
       "Jędrysek Mariusz Orion        2099\n",
       "Jaki Patryk                   2061\n",
       "Szczypińska Jolanta           2059\n",
       "Wróblewska Kornelia           2043\n",
       "Ajchler Zbigniew              2031\n",
       "Gowin Jarosław                2007\n",
       "Piątak Andrzej                2000\n",
       "Ziobro Zbigniew               1996\n",
       "                              ... \n",
       "Sójka Katarzyna                  1\n",
       "Senyszyn Joanna                  1\n",
       "Sterczewski Franciszek           1\n",
       "Zielińska Urszula                1\n",
       "Sipiera Zdzisław                 1\n",
       "Kurowski Władysław               1\n",
       "Kanthak Jan                      1\n",
       "Zalewski Paweł                   1\n",
       "Ociepa Marcin                    1\n",
       "Borys Piotr                      1\n",
       "Pszczółkowski Piotr              1\n",
       "Gdula Maciej                     1\n",
       "Wawrzyk Piotr                    1\n",
       "Rusiecki Grzegorz                1\n",
       "Stefaniuk Dariusz                1\n",
       "Iwaniak Arkadiusz                1\n",
       "Olichwer Tomasz                  1\n",
       "Szewiński Andrzej                1\n",
       "Maciejewska Beata                1\n",
       "Kucharska-Dziedzic Anita         1\n",
       "Wcisło Marta                     1\n",
       "Leniart Ewa                      1\n",
       "Dajczak Władysław                1\n",
       "Hoffmann Zbigniew Grzegorz       1\n",
       "Olszewski Dariusz                1\n",
       "Gwóźdź Marcin                    1\n",
       "Berkowicz Konrad                 1\n",
       "Żukowska Anna Maria              1\n",
       "Badora Maciej                    1\n",
       "Chomycz Małgorzata               1\n",
       "Name: osoba, Length: 883, dtype: int64"
      ]
     },
     "execution_count": 118,
     "metadata": {},
     "output_type": "execute_result"
    }
   ],
   "source": [
    "all_votes[ all_votes['glos'] == 'Nieobecny' ].osoba.value_counts()"
   ]
  },
  {
   "cell_type": "code",
   "execution_count": 143,
   "metadata": {},
   "outputs": [],
   "source": [
    "nieobecni_partia = all_votes[ all_votes['glos'] == 'Nieobecny' ].partia.value_counts()\n",
    "za_partia = all_votes[ all_votes['glos'] == 'Za' ].partia.value_counts()\n",
    "przeciw_partia = all_votes[ all_votes['glos'] == 'Przeciw' ].partia.value_counts()\n"
   ]
  },
  {
   "cell_type": "code",
   "execution_count": 122,
   "metadata": {},
   "outputs": [],
   "source": [
    "wszystkie_partia = all_votes.partia.value_counts()"
   ]
  },
  {
   "cell_type": "code",
   "execution_count": 129,
   "metadata": {},
   "outputs": [
    {
     "data": {
      "text/plain": [
       "2757711"
      ]
     },
     "execution_count": 129,
     "metadata": {},
     "output_type": "execute_result"
    }
   ],
   "source": [
    "wszystkie_partia['PiS']"
   ]
  },
  {
   "cell_type": "markdown",
   "metadata": {},
   "source": [
    "# Udział procentowy nieobecności w głosach"
   ]
  },
  {
   "cell_type": "code",
   "execution_count": 142,
   "metadata": {},
   "outputs": [
    {
     "name": "stdout",
     "output_type": "stream",
     "text": [
      "nieobecności PiS             ===    5.58 z 2757711\n",
      "nieobecności PO              ===    5.61 z 2142551\n",
      "nieobecności PSL             ===   10.25 z  279615\n",
      "nieobecności Kukiz15         ===   11.58 z  253624\n",
      "nieobecności PO-KO           ===   10.87 z  248910\n",
      "nieobecności N               ===   11.95 z  187751\n",
      "nieobecności SLD             ===    9.56 z  179823\n",
      "nieobecności niez.           ===   13.93 z  139927\n",
      "nieobecności RP              ===    7.88 z  114299\n",
      "nieobecności TR              ===   10.22 z   67592\n",
      "nieobecności SP              ===    8.84 z   63510\n",
      "nieobecności PSL-UED         ===   16.97 z   48927\n",
      "nieobecności WiS             ===   14.07 z   29265\n",
      "nieobecności ZP              ===    8.63 z   21564\n",
      "nieobecności KPSP            ===    7.43 z   17433\n",
      "nieobecności UED             ===   20.00 z   10017\n",
      "nieobecności PSL-KP          ===   21.14 z    8206\n",
      "nieobecności KO              ===    3.18 z    6700\n",
      "nieobecności BiG             ===   13.44 z    6490\n",
      "nieobecności TERAZ!          ===   16.71 z    5235\n",
      "nieobecności Konfederacja    ===   15.60 z    5018\n",
      "nieobecności BC              ===   18.90 z    3016\n",
      "nieobecności Republikanie    ===   11.38 z    2847\n",
      "nieobecności W-S             ===   49.91 z    2643\n",
      "nieobecności L-S             ===   19.94 z    2532\n",
      "nieobecności ID              ===   16.38 z    2472\n",
      "nieobecności Lewica          ===    3.80 z    2107\n",
      "nieobecności ED              ===   34.07 z    2084\n",
      "nieobecności PSL-Kukiz15     ===   13.95 z    1290\n",
      "nieobecności UPR             ===   30.49 z     692\n",
      "nieobecności PP              ===   21.00 z     519\n"
     ]
    }
   ],
   "source": [
    "for partia in wszystkie_partia.index:\n",
    "    perc = nieobecni_partia[partia] / wszystkie_partia[partia]\n",
    "    perc = perc * 100\n",
    "    print('nieobecności {:15s} === {:7.2f} z {:7d}'.format(partia, perc, wszystkie_partia[partia]))"
   ]
  },
  {
   "cell_type": "markdown",
   "metadata": {},
   "source": [
    "## Udział procentowy głosów Za w głosach"
   ]
  },
  {
   "cell_type": "code",
   "execution_count": 144,
   "metadata": {},
   "outputs": [
    {
     "name": "stdout",
     "output_type": "stream",
     "text": [
      "Za PiS             ===   38.63 z 2757711\n",
      "Za PO              ===   44.35 z 2142551\n",
      "Za PSL             ===   39.14 z  279615\n",
      "Za Kukiz15         ===   47.26 z  253624\n",
      "Za PO-KO           ===   68.13 z  248910\n",
      "Za N               ===   56.97 z  187751\n",
      "Za SLD             ===   49.89 z  179823\n",
      "Za niez.           ===   36.47 z  139927\n",
      "Za RP              ===   44.55 z  114299\n",
      "Za TR              ===   41.27 z   67592\n",
      "Za SP              ===   57.28 z   63510\n",
      "Za PSL-UED         ===   59.27 z   48927\n",
      "Za WiS             ===   30.66 z   29265\n",
      "Za ZP              ===   36.09 z   21564\n",
      "Za KPSP            ===   44.73 z   17433\n",
      "Za UED             ===   56.64 z   10017\n",
      "Za PSL-KP          ===   58.09 z    8206\n",
      "Za KO              ===   58.57 z    6700\n",
      "Za BiG             ===   37.83 z    6490\n",
      "Za TERAZ!          ===   61.36 z    5235\n",
      "Za Konfederacja    ===   32.68 z    5018\n",
      "Za BC              ===   37.53 z    3016\n",
      "Za Republikanie    ===   46.05 z    2847\n",
      "Za W-S             ===   20.85 z    2643\n",
      "Za L-S             ===   56.08 z    2532\n",
      "Za ID              ===   36.65 z    2472\n",
      "Za Lewica          ===   55.62 z    2107\n",
      "Za ED              ===   40.74 z    2084\n",
      "Za PSL-Kukiz15     ===   51.86 z    1290\n",
      "Za UPR             ===   49.42 z     692\n",
      "Za PP              ===   49.52 z     519\n"
     ]
    }
   ],
   "source": [
    "for partia in wszystkie_partia.index:\n",
    "    perc = za_partia[partia] / wszystkie_partia[partia]\n",
    "    perc = perc * 100\n",
    "    print('Za {:15s} === {:7.2f} z {:7d}'.format(partia, perc, wszystkie_partia[partia]))"
   ]
  },
  {
   "cell_type": "markdown",
   "metadata": {},
   "source": [
    "## Udział procentowy głosów Przeciw w głosach"
   ]
  },
  {
   "cell_type": "code",
   "execution_count": 145,
   "metadata": {},
   "outputs": [
    {
     "name": "stdout",
     "output_type": "stream",
     "text": [
      "Przeciw PiS             ===   51.69 z 2757711\n",
      "Przeciw PO              ===   48.74 z 2142551\n",
      "Przeciw PSL             ===   49.31 z  279615\n",
      "Przeciw Kukiz15         ===   28.63 z  253624\n",
      "Przeciw PO-KO           ===   18.45 z  248910\n",
      "Przeciw N               ===   24.95 z  187751\n",
      "Przeciw SLD             ===   36.26 z  179823\n",
      "Przeciw niez.           ===   38.99 z  139927\n",
      "Przeciw RP              ===   43.46 z  114299\n",
      "Przeciw TR              ===   43.08 z   67592\n",
      "Przeciw SP              ===   26.28 z   63510\n",
      "Przeciw PSL-UED         ===   20.02 z   48927\n",
      "Przeciw WiS             ===   52.85 z   29265\n",
      "Przeciw ZP              ===   39.18 z   21564\n",
      "Przeciw KPSP            ===   32.36 z   17433\n",
      "Przeciw UED             ===   18.99 z   10017\n",
      "Przeciw PSL-KP          ===   14.51 z    8206\n",
      "Przeciw KO              ===   31.90 z    6700\n",
      "Przeciw BiG             ===   47.26 z    6490\n",
      "Przeciw TERAZ!          ===   19.43 z    5235\n",
      "Przeciw Konfederacja    ===   27.48 z    5018\n",
      "Przeciw BC              ===   42.44 z    3016\n",
      "Przeciw Republikanie    ===   30.24 z    2847\n",
      "Przeciw W-S             ===   10.56 z    2643\n",
      "Przeciw L-S             ===   21.52 z    2532\n",
      "Przeciw ID              ===   41.46 z    2472\n",
      "Przeciw Lewica          ===   38.78 z    2107\n",
      "Przeciw ED              ===   23.80 z    2084\n",
      "Przeciw PSL-Kukiz15     ===   29.22 z    1290\n",
      "Przeciw UPR             ===   19.36 z     692\n",
      "Przeciw PP              ===   14.26 z     519\n"
     ]
    }
   ],
   "source": [
    "for partia in wszystkie_partia.index:\n",
    "    perc = przeciw_partia[partia] / wszystkie_partia[partia]\n",
    "    perc = perc * 100\n",
    "    print('Przeciw {:15s} === {:7.2f} z {:7d}'.format(partia, perc, wszystkie_partia[partia]))"
   ]
  },
  {
   "cell_type": "markdown",
   "metadata": {},
   "source": [
    "# Praca z opisami"
   ]
  },
  {
   "cell_type": "code",
   "execution_count": 156,
   "metadata": {},
   "outputs": [
    {
     "data": {
      "text/plain": [
       "'61. posiedzenie Sejmu Rzeczypospolitej Polskiej w dniach 19, 20 i 21 lutego 2014 r. - głosowanie nad ogłoszeniem przerwy'"
      ]
     },
     "execution_count": 156,
     "metadata": {},
     "output_type": "execute_result"
    }
   ],
   "source": [
    "all_votes['opis'][1477228]"
   ]
  },
  {
   "cell_type": "markdown",
   "metadata": {},
   "source": [
    "## Ilość głosów w głosowaniach budżetowych lub związanych z budżetem"
   ]
  },
  {
   "cell_type": "code",
   "execution_count": 152,
   "metadata": {},
   "outputs": [
    {
     "data": {
      "text/plain": [
       "(1019356, 11)"
      ]
     },
     "execution_count": 152,
     "metadata": {},
     "output_type": "execute_result"
    }
   ],
   "source": [
    "all_votes[ all_votes['opis'].str.contains(\"budż\") ].shape"
   ]
  },
  {
   "cell_type": "code",
   "execution_count": 153,
   "metadata": {},
   "outputs": [
    {
     "data": {
      "text/plain": [
       "(6614370, 11)"
      ]
     },
     "execution_count": 153,
     "metadata": {},
     "output_type": "execute_result"
    }
   ],
   "source": [
    "all_votes.shape"
   ]
  },
  {
   "cell_type": "markdown",
   "metadata": {},
   "source": [
    "## Ilość głosów w głosowaniach na temat przerwy"
   ]
  },
  {
   "cell_type": "code",
   "execution_count": 154,
   "metadata": {},
   "outputs": [
    {
     "data": {
      "text/plain": [
       "(111264, 11)"
      ]
     },
     "execution_count": 154,
     "metadata": {},
     "output_type": "execute_result"
    }
   ],
   "source": [
    "all_votes[ all_votes['opis'].str.contains(\"przerw\") ].shape"
   ]
  },
  {
   "cell_type": "markdown",
   "metadata": {},
   "source": [
    "## Rozkład głosów w głosowaniach na temat przerwy"
   ]
  },
  {
   "cell_type": "code",
   "execution_count": 157,
   "metadata": {},
   "outputs": [
    {
     "data": {
      "text/plain": [
       "Przeciw          60720\n",
       "Za               40192\n",
       "Nieobecny         9601\n",
       "Wstrzymał się      751\n",
       "Name: glos, dtype: int64"
      ]
     },
     "execution_count": 157,
     "metadata": {},
     "output_type": "execute_result"
    }
   ],
   "source": [
    "all_votes[ all_votes['opis'].str.contains(\"przerw\") ]['glos'].value_counts()"
   ]
  },
  {
   "cell_type": "code",
   "execution_count": 158,
   "metadata": {},
   "outputs": [],
   "source": [
    "przerwy = all_votes[ all_votes['opis'].str.contains(\"przerw\") ]"
   ]
  },
  {
   "cell_type": "code",
   "execution_count": 161,
   "metadata": {},
   "outputs": [
    {
     "data": {
      "text/plain": [
       "partia        glos   \n",
       "BiG           Przeciw       15\n",
       "              Za             8\n",
       "ED            Przeciw        1\n",
       "              Za            24\n",
       "ID            Przeciw       44\n",
       "              Za            28\n",
       "KO            Przeciw      129\n",
       "              Za           129\n",
       "KPSP          Przeciw       30\n",
       "              Za           140\n",
       "Konfederacja  Przeciw       12\n",
       "              Za            47\n",
       "Kukiz15       Przeciw     1737\n",
       "              Za          1085\n",
       "L-S           Za            21\n",
       "Lewica        Przeciw       49\n",
       "              Za            47\n",
       "N             Przeciw       23\n",
       "              Za          2472\n",
       "PO            Przeciw    23497\n",
       "              Za         12653\n",
       "PO-KO         Przeciw        8\n",
       "              Za          1839\n",
       "PP            Za             2\n",
       "PSL           Przeciw     3185\n",
       "              Za          1059\n",
       "PSL-KP        Przeciw        1\n",
       "              Za            40\n",
       "PSL-Kukiz15   Przeciw       22\n",
       "              Za            26\n",
       "PSL-UED       Przeciw        7\n",
       "              Za           504\n",
       "PiS           Przeciw    28363\n",
       "              Za         13132\n",
       "RP            Przeciw      794\n",
       "              Za          1755\n",
       "Republikanie  Przeciw       36\n",
       "              Za            15\n",
       "SLD           Przeciw      818\n",
       "              Za          1958\n",
       "SP            Przeciw      261\n",
       "              Za          1418\n",
       "TERAZ!        Za            41\n",
       "TR            Przeciw      521\n",
       "              Za          1114\n",
       "UED           Przeciw        4\n",
       "              Za           155\n",
       "UPR           Przeciw        5\n",
       "W-S           Przeciw        4\n",
       "              Za             5\n",
       "WiS           Przeciw      350\n",
       "              Za             5\n",
       "ZP            Przeciw        1\n",
       "              Za             9\n",
       "niez.         Przeciw      803\n",
       "              Za           461\n",
       "Name: timestamp, dtype: int64"
      ]
     },
     "execution_count": 161,
     "metadata": {},
     "output_type": "execute_result"
    }
   ],
   "source": [
    "przerwy[ (przerwy['glos'] == 'Za') | (przerwy['glos'] == 'Przeciw') ]['timestamp'].groupby([przerwy['partia'], przerwy['glos'] ]).count()"
   ]
  },
  {
   "cell_type": "code",
   "execution_count": 163,
   "metadata": {},
   "outputs": [
    {
     "data": {
      "text/plain": [
       "(111264, 11)"
      ]
     },
     "execution_count": 163,
     "metadata": {},
     "output_type": "execute_result"
    }
   ],
   "source": [
    "przerwy_only = all_votes[ all_votes['opis'].str.contains(\"przerw\") ]\n",
    "przerwy_only.shape"
   ]
  },
  {
   "cell_type": "code",
   "execution_count": null,
   "metadata": {},
   "outputs": [
    {
     "name": "stderr",
     "output_type": "stream",
     "text": [
      "/home/pawel/anaconda3/lib/python3.7/site-packages/ipykernel_launcher.py:10: UserWarning: Boolean Series key will be reindexed to match DataFrame index.\n",
      "  # Remove the CWD from sys.path while we load stuff.\n",
      "/home/pawel/anaconda3/lib/python3.7/site-packages/ipykernel_launcher.py:10: UserWarning: Boolean Series key will be reindexed to match DataFrame index.\n",
      "  # Remove the CWD from sys.path while we load stuff.\n",
      "/home/pawel/anaconda3/lib/python3.7/site-packages/ipykernel_launcher.py:10: UserWarning: Boolean Series key will be reindexed to match DataFrame index.\n",
      "  # Remove the CWD from sys.path while we load stuff.\n",
      "/home/pawel/anaconda3/lib/python3.7/site-packages/ipykernel_launcher.py:10: UserWarning: Boolean Series key will be reindexed to match DataFrame index.\n",
      "  # Remove the CWD from sys.path while we load stuff.\n",
      "/home/pawel/anaconda3/lib/python3.7/site-packages/ipykernel_launcher.py:10: UserWarning: Boolean Series key will be reindexed to match DataFrame index.\n",
      "  # Remove the CWD from sys.path while we load stuff.\n"
     ]
    }
   ],
   "source": [
    "wyniki_przerwa = {\n",
    "    'Nieobecny':[],\n",
    "    'Przeciw':[], \n",
    "    'Wstrzymał się':[], \n",
    "    'Za':[]\n",
    "}\n",
    "\n",
    "for gl in ['Nieobecny', 'Przeciw', 'Wstrzymał się', 'Za']:\n",
    "    for hh in range(0,24):\n",
    "        wyniki_przerwa[gl].append( przerwy_only[ (all_votes['hour'] == hh) & (przerwy_only['glos'] == gl) ].shape[0] ) \n",
    "        \n",
    "wyniki_przerwa"
   ]
  },
  {
   "cell_type": "code",
   "execution_count": null,
   "metadata": {},
   "outputs": [],
   "source": [
    "hours = [0,1,2,3,4,5, 6, 7, 8, 9, 10, 11, 12, 13, 14, 15, 16, 17, 18, 19, 20, 21, 22, 23]\n",
    "\n",
    "plt.figure(figsize=(15, 7))\n",
    "plt.plot(hours, wyniki_przerwa['Za'], color='green')\n",
    "plt.plot(hours, wyniki_przerwa['Przeciw'], color='red')\n",
    "plt.plot(hours, wyniki_przerwa['Wstrzymał się'], color='blue')\n",
    "plt.plot(hours, wyniki_przerwa['Nieobecny'], color='gray')"
   ]
  }
 ],
 "metadata": {
  "kernelspec": {
   "display_name": "Python 3",
   "language": "python",
   "name": "python3"
  },
  "language_info": {
   "codemirror_mode": {
    "name": "ipython",
    "version": 3
   },
   "file_extension": ".py",
   "mimetype": "text/x-python",
   "name": "python",
   "nbconvert_exporter": "python",
   "pygments_lexer": "ipython3",
   "version": "3.7.1"
  }
 },
 "nbformat": 4,
 "nbformat_minor": 2
}
