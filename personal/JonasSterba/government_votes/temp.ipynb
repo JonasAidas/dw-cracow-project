{
 "cells": [
  {
   "cell_type": "code",
   "execution_count": 1,
   "metadata": {},
   "outputs": [],
   "source": [
    "import requests\n",
    "from bs4 import BeautifulSoup\n",
    "import pandas as pd\n",
    "import time\n",
    "import random\n",
    "\n",
    "from tqdm import tqdm\n"
   ]
  },
  {
   "cell_type": "code",
   "execution_count": 10,
   "metadata": {},
   "outputs": [],
   "source": [
    "chk_votes = pd.read_hdf('all_votes_pending.h5')"
   ]
  },
  {
   "cell_type": "code",
   "execution_count": 11,
   "metadata": {},
   "outputs": [
    {
     "data": {
      "text/plain": [
       "(155, 7)"
      ]
     },
     "execution_count": 11,
     "metadata": {},
     "output_type": "execute_result"
    }
   ],
   "source": [
    "chk_votes[ chk_votes['saved_as'] == '' ].shape"
   ]
  },
  {
   "cell_type": "code",
   "execution_count": 12,
   "metadata": {},
   "outputs": [
    {
     "data": {
      "text/html": [
       "<div>\n",
       "<style scoped>\n",
       "    .dataframe tbody tr th:only-of-type {\n",
       "        vertical-align: middle;\n",
       "    }\n",
       "\n",
       "    .dataframe tbody tr th {\n",
       "        vertical-align: top;\n",
       "    }\n",
       "\n",
       "    .dataframe thead th {\n",
       "        text-align: right;\n",
       "    }\n",
       "</style>\n",
       "<table border=\"1\" class=\"dataframe\">\n",
       "  <thead>\n",
       "    <tr style=\"text-align: right;\">\n",
       "      <th></th>\n",
       "      <th>nr_glos</th>\n",
       "      <th>url</th>\n",
       "      <th>opis</th>\n",
       "      <th>nr_posiedzenia</th>\n",
       "      <th>kadencja</th>\n",
       "      <th>timestamp</th>\n",
       "      <th>saved_as</th>\n",
       "    </tr>\n",
       "  </thead>\n",
       "  <tbody>\n",
       "    <tr>\n",
       "      <th>0</th>\n",
       "      <td>1</td>\n",
       "      <td>https://www.sejm.gov.pl/Sejm8.nsf/agent.xsp?sy...</td>\n",
       "      <td>102 posiedzenie Sejmu Rzeczypospolitej Polskie...</td>\n",
       "      <td>102</td>\n",
       "      <td>7</td>\n",
       "      <td>2015-10-08 09:06:44</td>\n",
       "      <td>7_102_0.csv</td>\n",
       "    </tr>\n",
       "    <tr>\n",
       "      <th>1</th>\n",
       "      <td>2</td>\n",
       "      <td>https://www.sejm.gov.pl/Sejm8.nsf/agent.xsp?sy...</td>\n",
       "      <td>102 posiedzenie Sejmu Rzeczypospolitej Polskie...</td>\n",
       "      <td>102</td>\n",
       "      <td>7</td>\n",
       "      <td>2015-10-08 09:07:27</td>\n",
       "      <td>7_102_1.csv</td>\n",
       "    </tr>\n",
       "    <tr>\n",
       "      <th>2</th>\n",
       "      <td>3</td>\n",
       "      <td>https://www.sejm.gov.pl/Sejm8.nsf/agent.xsp?sy...</td>\n",
       "      <td>Pkt 7. porz. dzien. Wybór sędziów Trybunału Ko...</td>\n",
       "      <td>102</td>\n",
       "      <td>7</td>\n",
       "      <td>2015-10-08 19:03:31</td>\n",
       "      <td>7_102_2.csv</td>\n",
       "    </tr>\n",
       "    <tr>\n",
       "      <th>3</th>\n",
       "      <td>4</td>\n",
       "      <td>https://www.sejm.gov.pl/Sejm8.nsf/agent.xsp?sy...</td>\n",
       "      <td>Pkt 7. porz. dzien. Wybór sędziów Trybunału Ko...</td>\n",
       "      <td>102</td>\n",
       "      <td>7</td>\n",
       "      <td>2015-10-08 19:04:11</td>\n",
       "      <td>7_102_3.csv</td>\n",
       "    </tr>\n",
       "    <tr>\n",
       "      <th>4</th>\n",
       "      <td>5</td>\n",
       "      <td>https://www.sejm.gov.pl/Sejm8.nsf/agent.xsp?sy...</td>\n",
       "      <td>Pkt 7. porz. dzien. Wybór sędziów Trybunału Ko...</td>\n",
       "      <td>102</td>\n",
       "      <td>7</td>\n",
       "      <td>2015-10-08 19:04:46</td>\n",
       "      <td>7_102_4.csv</td>\n",
       "    </tr>\n",
       "  </tbody>\n",
       "</table>\n",
       "</div>"
      ],
      "text/plain": [
       "   nr_glos                                                url  \\\n",
       "0        1  https://www.sejm.gov.pl/Sejm8.nsf/agent.xsp?sy...   \n",
       "1        2  https://www.sejm.gov.pl/Sejm8.nsf/agent.xsp?sy...   \n",
       "2        3  https://www.sejm.gov.pl/Sejm8.nsf/agent.xsp?sy...   \n",
       "3        4  https://www.sejm.gov.pl/Sejm8.nsf/agent.xsp?sy...   \n",
       "4        5  https://www.sejm.gov.pl/Sejm8.nsf/agent.xsp?sy...   \n",
       "\n",
       "                                                opis  nr_posiedzenia  \\\n",
       "0  102 posiedzenie Sejmu Rzeczypospolitej Polskie...             102   \n",
       "1  102 posiedzenie Sejmu Rzeczypospolitej Polskie...             102   \n",
       "2  Pkt 7. porz. dzien. Wybór sędziów Trybunału Ko...             102   \n",
       "3  Pkt 7. porz. dzien. Wybór sędziów Trybunału Ko...             102   \n",
       "4  Pkt 7. porz. dzien. Wybór sędziów Trybunału Ko...             102   \n",
       "\n",
       "   kadencja           timestamp     saved_as  \n",
       "0         7 2015-10-08 09:06:44  7_102_0.csv  \n",
       "1         7 2015-10-08 09:07:27  7_102_1.csv  \n",
       "2         7 2015-10-08 19:03:31  7_102_2.csv  \n",
       "3         7 2015-10-08 19:04:11  7_102_3.csv  \n",
       "4         7 2015-10-08 19:04:46  7_102_4.csv  "
      ]
     },
     "execution_count": 12,
     "metadata": {},
     "output_type": "execute_result"
    }
   ],
   "source": [
    "chk_votes.head()"
   ]
  },
  {
   "cell_type": "code",
   "execution_count": 14,
   "metadata": {},
   "outputs": [
    {
     "data": {
      "text/plain": [
       "8    8180\n",
       "7    6299\n",
       "9      51\n",
       "Name: kadencja, dtype: int64"
      ]
     },
     "execution_count": 14,
     "metadata": {},
     "output_type": "execute_result"
    }
   ],
   "source": [
    "chk_votes['kadencja'].value_counts()"
   ]
  },
  {
   "cell_type": "code",
   "execution_count": null,
   "metadata": {},
   "outputs": [],
   "source": []
  }
 ],
 "metadata": {
  "kernelspec": {
   "display_name": "Python 3",
   "language": "python",
   "name": "python3"
  },
  "language_info": {
   "codemirror_mode": {
    "name": "ipython",
    "version": 3
   },
   "file_extension": ".py",
   "mimetype": "text/x-python",
   "name": "python",
   "nbconvert_exporter": "python",
   "pygments_lexer": "ipython3",
   "version": "3.7.1"
  }
 },
 "nbformat": 4,
 "nbformat_minor": 2
}
