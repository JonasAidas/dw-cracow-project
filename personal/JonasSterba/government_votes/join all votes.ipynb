{
 "cells": [
  {
   "cell_type": "code",
   "execution_count": 1,
   "metadata": {},
   "outputs": [],
   "source": [
    "import requests\n",
    "import pandas as pd\n",
    "import time\n",
    "\n",
    "from tqdm import tqdm\n"
   ]
  },
  {
   "cell_type": "code",
   "execution_count": 2,
   "metadata": {},
   "outputs": [
    {
     "name": "stdout",
     "output_type": "stream",
     "text": [
      "<class 'pandas.core.frame.DataFrame'>\n",
      "Int64Index: 14530 entries, 0 to 14529\n",
      "Data columns (total 7 columns):\n",
      "nr_glos           14530 non-null int64\n",
      "url               14530 non-null object\n",
      "opis              14530 non-null object\n",
      "nr_posiedzenia    14530 non-null int64\n",
      "kadencja          14530 non-null int64\n",
      "timestamp         14530 non-null datetime64[ns]\n",
      "saved_as          14530 non-null object\n",
      "dtypes: datetime64[ns](1), int64(3), object(3)\n",
      "memory usage: 908.1+ KB\n"
     ]
    }
   ],
   "source": [
    "#all_votes = pd.read_hdf('all_votes.h5')\n",
    "all_votes = pd.read_hdf('all_votes_pending.h5')\n",
    "all_votes.info()"
   ]
  },
  {
   "cell_type": "code",
   "execution_count": 3,
   "metadata": {
    "scrolled": false
   },
   "outputs": [
    {
     "name": "stderr",
     "output_type": "stream",
     "text": [
      "14391it [06:26, 37.25it/s]\n"
     ]
    }
   ],
   "source": [
    "all_df = pd.DataFrame({'kadencja' : []})\n",
    "file_num = 1\n",
    "loop_cnt = 0\n",
    "\n",
    "for index, row in tqdm(all_votes[ all_votes['saved_as'] != '' ].iterrows()):\n",
    "    # print(row['url'])\n",
    "    try:\n",
    "        \n",
    "        this_filename = str(row['kadencja']) + '_' + str(row['nr_posiedzenia']) + '_' + str(row['nr_glos']) + '.csv'\n",
    "        df = pd.read_csv('./votes/' + this_filename)\n",
    "\n",
    "        df['kadencja'] = row['kadencja']\n",
    "        df['nr_posiedzenia'] = row['nr_posiedzenia']\n",
    "        df['nr_glos'] = row['nr_glos']\n",
    "        df['opis'] = row['opis']\n",
    "        df['timestamp'] = row['timestamp']\n",
    "        \n",
    "        all_df = all_df.append(df, ignore_index=True, sort=False)\n",
    "        \n",
    "        loop_cnt = loop_cnt + 1\n",
    "        \n",
    "        if loop_cnt > 200:\n",
    "            all_df.to_hdf('./votes_combined/' + str(file_num) + '.h5', key='all_df', mode='w')\n",
    "            all_df = pd.DataFrame({'kadencja' : []})\n",
    "            file_num = file_num + 1\n",
    "            loop_cnt = 0\n",
    "        \n",
    "    except Exception as e:\n",
    "        print(e)\n",
    "        \n",
    "all_df.to_hdf('./votes_combined/' + str(file_num) + '.h5', key='all_df', mode='w')\n",
    "        \n",
    "    \n",
    "        "
   ]
  },
  {
   "cell_type": "code",
   "execution_count": 4,
   "metadata": {},
   "outputs": [
    {
     "data": {
      "text/plain": [
       "(55200, 9)"
      ]
     },
     "execution_count": 4,
     "metadata": {},
     "output_type": "execute_result"
    }
   ],
   "source": [
    "all_df.shape"
   ]
  },
  {
   "cell_type": "code",
   "execution_count": 5,
   "metadata": {},
   "outputs": [
    {
     "name": "stdout",
     "output_type": "stream",
     "text": [
      "<class 'pandas.core.frame.DataFrame'>\n",
      "RangeIndex: 55200 entries, 0 to 55199\n",
      "Data columns (total 9 columns):\n",
      "kadencja          55200 non-null float64\n",
      "Unnamed: 0        55200 non-null float64\n",
      "party             55200 non-null object\n",
      "person            55200 non-null object\n",
      "vote              55200 non-null object\n",
      "nr_posiedzenia    55200 non-null float64\n",
      "nr_glos           55200 non-null float64\n",
      "opis              55200 non-null object\n",
      "timestamp         55200 non-null datetime64[ns]\n",
      "dtypes: datetime64[ns](1), float64(4), object(4)\n",
      "memory usage: 3.8+ MB\n"
     ]
    }
   ],
   "source": [
    "all_df.info()"
   ]
  },
  {
   "cell_type": "code",
   "execution_count": 7,
   "metadata": {},
   "outputs": [
    {
     "name": "stderr",
     "output_type": "stream",
     "text": [
      "100%|██████████| 72/72 [01:47<00:00,  2.80s/it]\n"
     ]
    }
   ],
   "source": [
    "all_df = pd.DataFrame({'kadencja' : []})\n",
    "file_num = 1\n",
    "loop_cnt = 0\n",
    "\n",
    "for index in tqdm(range(1,73)):\n",
    "    try:\n",
    "        \n",
    "        df = pd.read_hdf('./votes_combined/' + str(index) + '.h5')\n",
    "\n",
    "        all_df = all_df.append(df, ignore_index=True, sort=False)\n",
    "        \n",
    "    except Exception as e:\n",
    "        print(e)\n",
    "        \n",
    "all_df.to_hdf('./votes_combined/all_of_them.h5', key='all_df', mode='w')\n",
    "        \n",
    "    \n",
    "        "
   ]
  },
  {
   "cell_type": "code",
   "execution_count": 8,
   "metadata": {},
   "outputs": [
    {
     "name": "stdout",
     "output_type": "stream",
     "text": [
      "<class 'pandas.core.frame.DataFrame'>\n",
      "RangeIndex: 6614370 entries, 0 to 6614369\n",
      "Data columns (total 9 columns):\n",
      "kadencja          float64\n",
      "Unnamed: 0        float64\n",
      "party             object\n",
      "person            object\n",
      "vote              object\n",
      "nr_posiedzenia    float64\n",
      "nr_glos           float64\n",
      "opis              object\n",
      "timestamp         datetime64[ns]\n",
      "dtypes: datetime64[ns](1), float64(4), object(4)\n",
      "memory usage: 454.2+ MB\n"
     ]
    }
   ],
   "source": [
    "all_df.info()"
   ]
  },
  {
   "cell_type": "code",
   "execution_count": 9,
   "metadata": {},
   "outputs": [
    {
     "data": {
      "text/plain": [
       "Mularczyk Arkadiusz              14391\n",
       "Szczerba Michał                  14391\n",
       "Śledzińska-Katarasińska Iwona    14391\n",
       "Sawicki Marek                    14391\n",
       "Konwiński Zbigniew               14391\n",
       "Matusiak Grzegorz                14391\n",
       "Opioła Marek                     14391\n",
       "Cichoń Janusz                    14391\n",
       "Raś Ireneusz                     14391\n",
       "Zgorzelski Piotr                 14391\n",
       "Zieliński Jarosław               14391\n",
       "Grupiński Rafał                  14391\n",
       "Tomczyk Cezary                   14391\n",
       "Kołakowski Lech                  14391\n",
       "Jaros Michał                     14391\n",
       "Kamiński Mariusz                 14391\n",
       "Hanajczyk Agnieszka              14391\n",
       "Olszewski Paweł                  14391\n",
       "Osuch Jacek                      14391\n",
       "Hok Marek                        14391\n",
       "Krząkała Marek                   14391\n",
       "Polaczek Jerzy                   14391\n",
       "Mucha Joanna                     14391\n",
       "Piechota Sławomir Jan            14391\n",
       "Matuszewski Marek                14391\n",
       "Krasulski Leonard                14391\n",
       "Niedziela Dorota                 14391\n",
       "Gosiewska Małgorzata             14391\n",
       "Telus Robert                     14391\n",
       "Maliszewski Mirosław             14391\n",
       "                                 ...  \n",
       "Fogiel Radosław                     50\n",
       "Kwiatkowski Robert                  50\n",
       "Woś Michał                          50\n",
       "Żukowska Anna Maria                 50\n",
       "Braun Grzegorz                      50\n",
       "Dziambor Artur                      50\n",
       "Sipiera Zdzisław                    50\n",
       "Rusiecki Grzegorz                   50\n",
       "Strzałka Beata                      50\n",
       "Kamiński Krystian                   50\n",
       "Prokop-Paczkowska Małgorzata        50\n",
       "Tomaszewski Włodzimierz             50\n",
       "Morawiecki Mateusz                  50\n",
       "Sroka Magdalena                     50\n",
       "Płonka Elżbieta                     50\n",
       "Frysztak Konrad                     50\n",
       "Berkowicz Konrad                    50\n",
       "Kotula Katarzyna                    50\n",
       "Bukowiec Stanisław                  50\n",
       "Stefaniuk Dariusz                   50\n",
       "Warchoł Marcin                      50\n",
       "Sak Piotr                           50\n",
       "Gill-Piątek Hanna                   50\n",
       "Kaleta Sebastian                    50\n",
       "Kowal Paweł                         50\n",
       "Hardie-Douglas Jerzy                50\n",
       "Czarnecki Krzysztof                 50\n",
       "Lasek Maciej                        50\n",
       "Chomycz Małgorzata                  42\n",
       "Kubik Edyta                         38\n",
       "Name: person, Length: 937, dtype: int64"
      ]
     },
     "execution_count": 9,
     "metadata": {},
     "output_type": "execute_result"
    }
   ],
   "source": [
    "all_df['person'].value_counts()"
   ]
  },
  {
   "cell_type": "code",
   "execution_count": null,
   "metadata": {},
   "outputs": [],
   "source": []
  }
 ],
 "metadata": {
  "kernelspec": {
   "display_name": "Python 3",
   "language": "python",
   "name": "python3"
  },
  "language_info": {
   "codemirror_mode": {
    "name": "ipython",
    "version": 3
   },
   "file_extension": ".py",
   "mimetype": "text/x-python",
   "name": "python",
   "nbconvert_exporter": "python",
   "pygments_lexer": "ipython3",
   "version": "3.7.1"
  }
 },
 "nbformat": 4,
 "nbformat_minor": 2
}
