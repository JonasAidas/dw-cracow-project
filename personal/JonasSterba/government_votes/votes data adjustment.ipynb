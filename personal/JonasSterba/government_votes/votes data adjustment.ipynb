{
 "cells": [
  {
   "cell_type": "code",
   "execution_count": 1,
   "metadata": {},
   "outputs": [],
   "source": [
    "import pandas as pd\n"
   ]
  },
  {
   "cell_type": "code",
   "execution_count": 2,
   "metadata": {},
   "outputs": [],
   "source": [
    "df = pd.read_csv('all_votes.csv')"
   ]
  },
  {
   "cell_type": "code",
   "execution_count": 10,
   "metadata": {},
   "outputs": [
    {
     "data": {
      "text/html": [
       "<div>\n",
       "<style scoped>\n",
       "    .dataframe tbody tr th:only-of-type {\n",
       "        vertical-align: middle;\n",
       "    }\n",
       "\n",
       "    .dataframe tbody tr th {\n",
       "        vertical-align: top;\n",
       "    }\n",
       "\n",
       "    .dataframe thead th {\n",
       "        text-align: right;\n",
       "    }\n",
       "</style>\n",
       "<table border=\"1\" class=\"dataframe\">\n",
       "  <thead>\n",
       "    <tr style=\"text-align: right;\">\n",
       "      <th></th>\n",
       "      <th>#_w_dniu</th>\n",
       "      <th>url</th>\n",
       "      <th>godzina</th>\n",
       "      <th>opis</th>\n",
       "      <th>nr_posiedzenia</th>\n",
       "      <th>data</th>\n",
       "      <th>kadencja</th>\n",
       "    </tr>\n",
       "  </thead>\n",
       "  <tbody>\n",
       "    <tr>\n",
       "      <th>14480</th>\n",
       "      <td>2</td>\n",
       "      <td>https://www.sejm.gov.pl/Sejm8.nsf/agent.xsp?sy...</td>\n",
       "      <td>17:42:06</td>\n",
       "      <td>Pkt 2. porz. dzien. Poselskie projekty uchwał ...</td>\n",
       "      <td>1</td>\n",
       "      <td>2019-11-12</td>\n",
       "      <td>9</td>\n",
       "    </tr>\n",
       "  </tbody>\n",
       "</table>\n",
       "</div>"
      ],
      "text/plain": [
       "       #_w_dniu                                                url   godzina  \\\n",
       "14480         2  https://www.sejm.gov.pl/Sejm8.nsf/agent.xsp?sy...  17:42:06   \n",
       "\n",
       "                                                    opis  nr_posiedzenia  \\\n",
       "14480  Pkt 2. porz. dzien. Poselskie projekty uchwał ...               1   \n",
       "\n",
       "             data  kadencja  \n",
       "14480  2019-11-12         9  "
      ]
     },
     "execution_count": 10,
     "metadata": {},
     "output_type": "execute_result"
    }
   ],
   "source": [
    "df[ df.index == 14480]"
   ]
  },
  {
   "cell_type": "code",
   "execution_count": 11,
   "metadata": {},
   "outputs": [
    {
     "data": {
      "text/plain": [
       "(14530, 7)"
      ]
     },
     "execution_count": 11,
     "metadata": {},
     "output_type": "execute_result"
    }
   ],
   "source": [
    "df.shape"
   ]
  },
  {
   "cell_type": "code",
   "execution_count": 12,
   "metadata": {},
   "outputs": [
    {
     "data": {
      "text/plain": [
       "Pkt 1. porz. dzien. Sprawozdanie Komisji o rządowym projekcie ustawy budżetowej na rok 2019 - trzecie czytanie - głosowanie nad przyjęciem tego wniosku                                                                                                                                                                                                                                                                             62\n",
       "Pkt 1. porz. dzien. Sprawozdanie Komisji o rządowym projekcie ustawy budżetowej na rok 2019 - trzecie czytanie - głosowanie nad jego przyjęciem                                                                                                                                                                                                                                                                                     25\n",
       "59. posiedzenie Sejmu w dniach 22, 23 i 24 stycznia 2014 r. - głosowanie nad ogłoszeniem przerwy                                                                                                                                                                                                                                                                                                                                    10\n",
       "Pkt 25. porz. dzien. Sprawozdanie Komisji o uchwale Senatu w sprawie ustawy o umowie koncesji na roboty budowlane lub usługi - głosowanie nad odrzuceniem ww. poprawek                                                                                                                                                                                                                                                               6\n",
       "65. posiedzenie Sejmu Rzeczypospolitej Polskiej w dniach 2, 3 i 4 kwietnia 2014 r. - głosowanie nad ogłoszeniem przerwy                                                                                                                                                                                                                                                                                                              5\n",
       "16. posiedzenie Sejmu Rzeczypospolitej Polskiej w dniach 13, 14 i 15 czerwca 2012 r. - głosowanie nad ogłoszeniem przerwy                                                                                                                                                                                                                                                                                                            5\n",
       "Pkt 3. porz. dzien. Sprawozdanie Komisji o poselskim projekcie ustawy o zmianie niektórych ustaw w celu zwiększenia udziału obywateli w procesie wybierania, funkcjonowania i kontrolowania niektórych organów publicznych - głosowanie nad przyjęciem wymienionych poprawek                                                                                                                                                         5\n",
       "53. posiedzenie Sejmu Rzeczypospolitej Polskiej w dniach 6, 7 i 8 grudnia 2017 r. - głosowanie nad zarządzeniem przerwy w obradach                                                                                                                                                                                                                                                                                                   5\n",
       "59. posiedzenie Sejmu Rzeczypospolitej Polskiej w dniach 27, 28 lutego i 1 marca 2018 r. - głosowanie nad przyjęciem wniosku o uzupełnienie porządku dziennego                                                                                                                                                                                                                                                                       4\n",
       "46. posiedzenie Sejmu Rzeczypospolitej Polskiej w dniach 18, 19 i 20 lipca 2017 r. - głosowanie nad zarządzeniem przerwy w obradach                                                                                                                                                                                                                                                                                                  4\n",
       "39. posiedzenie Sejmu Rzeczypospolitej Polskiej w dniach 5, 6 i 7 kwietnia 2017 r. - głosowanie nad zarządzeniem przerwy w obradach                                                                                                                                                                                                                                                                                                  4\n",
       "13. Posiedzenie Sejmu Rzeczypospolitej Polskiej w dniach 25, 26 i 27 kwietnia 2012 r. - głosowanie nad ogłoszeniem przerwy                                                                                                                                                                                                                                                                                                           4\n",
       "14. Posiedzenie Sejmu Rzeczypospolitej Polskiej w dniach 9, 10 i 11 maja 2012 r. - głosowanie nad ogłoszeniem przerwy                                                                                                                                                                                                                                                                                                                4\n",
       "17. posiedzenie Sejmu Rzeczypospolitej Polskiej w dniach 26, 27 i 28 czerwca 2012 r. - głosowanie nad ogłoszeniem przerwy                                                                                                                                                                                                                                                                                                            4\n",
       "67. posiedzenie Sejmu Rzeczypospolitej Polskiej w dniach 18, 19, i 20 lipca 2018 r. - głosowanie nad przyjęciem wniosku o uzupełnienie porządku dziennego o ten punkt                                                                                                                                                                                                                                                                4\n",
       "72. posiedzenie Sejmu Rzeczypospolitej Polskiej w dniach 22, 23, 24 i 25 lipca 2014 r. - głosowanie nad ogłoszeniem przerwy                                                                                                                                                                                                                                                                                                          4\n",
       "54. posiedzenie Sejmu Rzeczypospolitej Polskiej w dniach 12, 13, 14 i 15 grudnia 2017 r. - głosowanie nad zarządzeniem przerwy w obradach                                                                                                                                                                                                                                                                                            4\n",
       "53. posiedzenie Sejmu Rzeczypospolitej Polskiej w dniach 6, 7 i 8 listopada 2013 r. - głosowanie nad ogłoszeniem przerwy                                                                                                                                                                                                                                                                                                             4\n",
       "6. Posiedzenie Sejmu Rzeczypospolitej Polskiej w dniach 25, 26 i 27 stycznia 2012 r. - głosowanie nad ogłoszeniem przerwy i zwołaniem Konwentu Seniorów                                                                                                                                                                                                                                                                              3\n",
       "Pkt 21. porz. dzien. Sprawozdanie Komisji o uchwale Senatu w sprawie ustawy - Przepisy wprowadzające ustawę o Krajowej Administracji Skarbowej - głosowanie nad odrzuceniem ww. poprawek                                                                                                                                                                                                                                             3\n",
       "31. posiedzenie Sejmu Rzeczypospolitej Polskiej w dniach 29, 30 listopada, 1 i 2 grudnia 2016 r. - głosowanie nad zarządzeniem przerwy w obradach                                                                                                                                                                                                                                                                                    3\n",
       "60. posiedzenie Sejmu Rzeczypospolitej Polskiej w dniach 20, 21 i 22   marca 2018 r. - głosowanie nad przyjęciem wniosku o uzupełnienie porządku dziennego                                                                                                                                                                                                                                                                           3\n",
       "39. posiedzenie Sejmu Rzeczypospolitej Polskiej w dniach 5, 6 i 7 kwietnia 2017 r. - głosowanie nad przyjęciem tego wniosku                                                                                                                                                                                                                                                                                                          3\n",
       "54. posiedzenie Sejmu Rzeczypospolitej Polskiej w dniach 20, 21 i 22 listopada 2013 r. - głosowanie nad ogłoszeniem przerwy                                                                                                                                                                                                                                                                                                          3\n",
       "55. posiedzenie Sejmu Rzeczypospolitej Polskiej w dniach 3, 4, 5 i 6 grudnia 2013 r. - głosowanie nad ogłoszeniem przerwy                                                                                                                                                                                                                                                                                                            3\n",
       "23. posiedzenie Sejmu Rzeczypospolitej Polskiej w dniach 19, 20, 21 i 22 lipca 2016 r. - głosowanie nad zarządzeniem przerwy w obradach                                                                                                                                                                                                                                                                                              3\n",
       "73. posiedzenie Sejmu Rzeczypospolitej Polskiej w dniach 27, 28 i 29 sierpnia 2014 r. - głosowanie nad ogłoszeniem przerwy                                                                                                                                                                                                                                                                                                           3\n",
       "Pkt 2. porz. dzien. Pierwsze czytanie poselskiego projektu ustawy o Sądzie Najwyższym - kontynuacja - głosowanie nad przyjęciem ww. poprawek                                                                                                                                                                                                                                                                                         2\n",
       "Pkt 13. porz. dzien. Pierwsze czytanie rządowego projektu ustawy o zmianie ustawy o podatku od sprzedaży detalicznej - głosowanie nad przyjęciem wniosku o przystąpienie do drugiego czytania                                                                                                                                                                                                                                        2\n",
       "47. posiedzenie Sejmu Rzeczypospolitej Polskiej w dniach 27, 28, 29 i 30 sierpnia 2013 r. - głosowanie nad ogłoszeniem przerwy                                                                                                                                                                                                                                                                                                       2\n",
       "                                                                                                                                                                                                                                                                                                                                                                                                                                    ..\n",
       "Pkt 1. porz. dzien. Sprawozdanie Komisji o rządowym projekcie ustawy budżetowej na rok 2015 - trzecie czytanie - głosowanie nad przyjęciem poprawki 20.                                                                                                                                                                                                                                                                              1\n",
       "Pkt 10. porz. dzien. Sprawozdanie Komisji o rządowym projekcie ustawy o zmianie ustawy o Prokuratorii Generalnej Skarbu Państwa oraz niektórych innych ustaw - głosowanie nad przyjęciem w całości projektu ustawy w brzmieniu z druku nr 3692                                                                                                                                                                                       1\n",
       "Pkt 3. porz. dzien. Sprawozdanie Komisji o rządowym projekcie ustawy - Prawo wodne - trzecie czytanie - kontynuacja - głosowanie nad przyjęciem 34. poprawki                                                                                                                                                                                                                                                                         1\n",
       "Pkt 5. porz. dzien. Sprawozdanie Komisji o poselskim projekcie ustawy o ustanowieniu Krzyża Wschodniego - głosowanie nad przyjęciem 5. poprawki                                                                                                                                                                                                                                                                                      1\n",
       "Pkt 14. porz. dzien. Sprawozdanie Komisji o uchwale Senatu w sprawie ustawy budżetowej na rok 2016 - głosowanie nad odrzuceniem 19. poprawki                                                                                                                                                                                                                                                                                         1\n",
       "Pkt 4. porz. dzien. Sprawozdanie Komisji o projekcie ustawy o zmianie ustawy o systemie informacji oświatowej - głosowanie nad przyjęciem wniosku o odrzucenie projektu ustawy w całości                                                                                                                                                                                                                                             1\n",
       "29. posiedzenie Sejmu Rzeczypospolitej Polskiej w dniach 3 i 4 listopada 2016 r. - głosowanie nad uzupełnieniem porządku dziennego o punkt w brzmieniu: Pierwsze czytanie rządowego projektu ustawy o zmianie ustawy o powszechnym obowiązku obrony Rzeczypospolitej Polskiej oraz niektórych innych ustaw, druk nr 966                                                                                                              1\n",
       "Pkt 10. porz. dzien. Sprawozdanie Komisji o poselskim projekcie ustawy o zmianie ustawy o radiofonii i telewizji - głosowanie nad przyjęciem wniosku o odrzucenie projektu ustawy w całości                                                                                                                                                                                                                                          1\n",
       "Pkt 9. porz. dzien. Sprawozdanie Komisji o rządowym projekcie ustawy o zmianie ustawy - Prawo budowlane oraz niektórych innych ustaw - głosowanie nad przyjęciem 1. poprawki                                                                                                                                                                                                                                                         1\n",
       "Pkt 10. porz. dzien. Sprawozdanie Komisji o rządowym projekcie ustawy o zmianie niektórych ustaw w związku z utworzeniem Ministerstwa Spraw Wewnętrznych i Administracji - głosowanie nad przyjęciem poprawek 1. i 3.                                                                                                                                                                                                                1\n",
       "Pkt 23. porz. dzien. Sprawozdanie Komisji o uchwale Senatu w sprawie ustawy o zmianie ustawy o wymianie informacji podatkowych z innymi państwami oraz niektórych innych ustaw - głosowanie nad odrzuceniem poprawek 3. i 4.                                                                                                                                                                                                         1\n",
       "Pkt 8. porz. dzien. Sprawozdanie Komisji o rządowym projekcie ustawy o funkcjonowaniu górnictwa węgla kamiennego oraz ustawy o zmianie ustawy - Prawo geologiczne i górnicze oraz niektórych innych ustaw - głosowanie nad przyjęciem poprawek 2. i 4.                                                                                                                                                                               1\n",
       "Pkt 2. porz. dzien. Sprawozdanie Komisji o rządowym projekcie ustawy budżetowej na rok 2018 - trzecie czytanie - głosowanie nad przyjęciem 7. wniosku mniejszości                                                                                                                                                                                                                                                                    1\n",
       "Pkt 24. porz. dzien. Sprawozdanie Komisji o rządowym projekcie ustawy o zagospodarowaniu wspólnot gruntowych - głosowanie nad przyjęciem 7. poprawki                                                                                                                                                                                                                                                                                 1\n",
       "Pkt 23. porz. dzien. Sprawozdanie Komisji o uchwale Senatu w sprawie ustawy - Prawo restrukturyzacyjne - głosowanie nad odrzuceniem 51. poprawki Senatu                                                                                                                                                                                                                                                                              1\n",
       "Pkt 6. porz. dzien. Sprawozdanie Komisji o projekcie ustawy o zmianie ustawy o zaopatrzeniu emerytalnym żołnierzy zawodowych oraz ich rodzin, ustawy o zaopatrzeniu emerytalnym funkcjonariuszy Policji, ABW, AW, SKW, SWW, CBA, Straży Granicznej, BOR, Państwowej Straży Pożarnej i Służby Więziennej oraz ich rodzin oraz niektórych innych ustaw - głosowanie nad przyjęciem 25. wniosku mniejszości                             1\n",
       "Pkt 14. porz. dzien. Sprawozdanie Komisji o rządowym projekcie ustawy o zmianie ustawy o podatku dochodowym od osób fizycznych oraz ustawy o podatku dochodowym od osób prawnych - głosowanie nad przyjęciem w całości projektu ustawy w brzmieniu z druku nr 738                                                                                                                                                                    1\n",
       "Pkt 20. porz. dzien. Sprawozdanie Komisji o uchwale Senatu w sprawie ustawy o ułatwieniu dostępu do wykonywania niektórych zawodów regulowanych - głosowanie nad odrzuceniem 18. poprawki Senatu                                                                                                                                                                                                                                     1\n",
       "Pkt 7. porz. dzien. Sprawozdanie Komisji o rządowym projekcie ustawy o zmianie ustawy o świadczeniach opieki zdrowotnej finansowanych ze środków publicznych - głosowanie nad przyjęciem w całości projektu ustawy w brzmieniu z druku nr 1240                                                                                                                                                                                       1\n",
       "Pkt 11. porz. dzien. Sprawozdanie Komisji o rządowym projekcie ustawy o podatku od sprzedaży detalicznej - głosowanie nad przyjęciem 2. wniosku mniejszości                                                                                                                                                                                                                                                                          1\n",
       "Pkt 26. porz. dzien. Sprawozdanie Komisji o projekcie ustawy o zmianie ustawy o świadczeniach opieki zdrowotnej finansowanych ze środków publicznych oraz o zmianie niektórych innych ustaw - głosowanie nad przyjęciem w całości projektu ustawy o zmianie ustawy o świadczeniach opieki zdrowotnej finansowanych ze środków publicznych oraz o zmianie niektórych innych ustaw, w brzmieniu proponowanym przez Komisję Zdrowia     1\n",
       "Głosowanie nad wnioskiem o wyrażenie zgody na pociągnięcie do odpowiedzialności karnej posła Mariusza Kamińskiego za czyn określnony we wniosku Prokuratora Okręgowego Warszawa-Praga w Warszawie                                                                                                                                                                                                                                    1\n",
       "Pkt 23. porz. dzien. Sprawozdanie Komisji o uchwale Senatu w sprawie ustawy o zasadach prowadzenia zbiórek publicznych - głosowanie nad odrzuceniem 3. poprawki Senatu                                                                                                                                                                                                                                                               1\n",
       "Pkt 8. porz. dzien. Sprawozdanie Komisji o uchwale Senatu w sprawie ustawy o zmianie ustawy o szczególnych zasadach przygotowania i realizacji inwestycji w zakresie lotnisk użytku publicznego - głosowanie nad odrzuceniem poprawki                                                                                                                                                                                                1\n",
       "Pkt 7. porz. dzien. Pierwsze czytanie poselskiego projektu ustawy o zmianie ustawy - Kodeks wyborczy oraz niektórych innych ustaw - głosowanie nad przyjęciem wniosku o odrzucenie w pierwszym czytaniu poselskiego projektu ustawy o zmianie ustawy Kodeks wyborczy oraz niektórych innych ustaw, zawartego w druku nr 1786                                                                                                         1\n",
       "Pkt 1. porz. dzien. Sprawozdanie Komisji o: - rządowym projekcie ustawy o zmianie ustawy - Kodeks karny oraz niektórych innych ustaw, - poselskim projekcie ustawy o zmianie ustawy - Kodeks karny oraz niektórych innych ustaw, - poselskim projekcie ustawy o zmianie ustawy - Kodeks karny - głosowanie nad przyjęciem poprawek od 9. do 11.                                                                                      1\n",
       "Pkt 1. porz. dzien. Sprawozdanie Komisji o projekcie ustawy o zmianie niektórych ustaw związanych z realizacją ustawy budżetowej - głosowanie nad przyjęciem w całości projektu ustawy o zmianie niektórych ustaw związanych z realizacją ustawy budżetowej, w brzmieniu proponowanym przez Komisję Finansów Publicznych, wraz z przyjętymi poprawkami                                                                               1\n",
       "Pkt 27. porz. dzien. Sprawozdanie Komisji o uchwale Senatu w sprawie ustawy o zmianie ustawy o zasadach finansowania nauki oraz niektórych innych ustaw - głosowanie nad odrzuceniem 10. poprawki Senatu                                                                                                                                                                                                                             1\n",
       "Pkt 5. porz. dzien. Sprawozdanie Komisji o poselskim projekcie ustawy o zmianie ustawy o systemie oświaty oraz niektórych innych ustaw - głosowanie nad przyjęciem 15. wniosku mniejszości                                                                                                                                                                                                                                           1\n",
       "Pkt 11. porz. dzien. Sprawozdanie Komisji o projekcie ustawy o zmianie niektórych ustaw w związku z realizacją ustawy budżetowej - głosowanie nad przyjęciem 13. poprawki wraz z konsekwencją                                                                                                                                                                                                                                        1\n",
       "Name: opis, Length: 14314, dtype: int64"
      ]
     },
     "execution_count": 12,
     "metadata": {},
     "output_type": "execute_result"
    }
   ],
   "source": [
    "df.opis.value_counts()"
   ]
  },
  {
   "cell_type": "code",
   "execution_count": 13,
   "metadata": {},
   "outputs": [
    {
     "name": "stdout",
     "output_type": "stream",
     "text": [
      "<class 'pandas.core.frame.DataFrame'>\n",
      "RangeIndex: 14530 entries, 0 to 14529\n",
      "Data columns (total 7 columns):\n",
      "#_w_dniu          14530 non-null int64\n",
      "url               14530 non-null object\n",
      "godzina           14530 non-null object\n",
      "opis              14530 non-null object\n",
      "nr_posiedzenia    14530 non-null int64\n",
      "data              14530 non-null object\n",
      "kadencja          14530 non-null int64\n",
      "dtypes: int64(3), object(4)\n",
      "memory usage: 794.7+ KB\n"
     ]
    }
   ],
   "source": [
    "df.info()"
   ]
  },
  {
   "cell_type": "code",
   "execution_count": 14,
   "metadata": {},
   "outputs": [],
   "source": [
    "df['data_godzina'] = df.apply(lambda x: x['data'] + ' ' + x['godzina'], axis=1)"
   ]
  },
  {
   "cell_type": "code",
   "execution_count": 15,
   "metadata": {},
   "outputs": [],
   "source": [
    "df['timestamp'] = pd.to_datetime(df['data_godzina'])"
   ]
  },
  {
   "cell_type": "code",
   "execution_count": 16,
   "metadata": {},
   "outputs": [
    {
     "name": "stdout",
     "output_type": "stream",
     "text": [
      "<class 'pandas.core.frame.DataFrame'>\n",
      "RangeIndex: 14530 entries, 0 to 14529\n",
      "Data columns (total 9 columns):\n",
      "#_w_dniu          14530 non-null int64\n",
      "url               14530 non-null object\n",
      "godzina           14530 non-null object\n",
      "opis              14530 non-null object\n",
      "nr_posiedzenia    14530 non-null int64\n",
      "data              14530 non-null object\n",
      "kadencja          14530 non-null int64\n",
      "data_godzina      14530 non-null object\n",
      "timestamp         14530 non-null datetime64[ns]\n",
      "dtypes: datetime64[ns](1), int64(3), object(5)\n",
      "memory usage: 1021.7+ KB\n"
     ]
    }
   ],
   "source": [
    "df.info()"
   ]
  },
  {
   "cell_type": "code",
   "execution_count": 25,
   "metadata": {},
   "outputs": [
    {
     "data": {
      "text/html": [
       "<div>\n",
       "<style scoped>\n",
       "    .dataframe tbody tr th:only-of-type {\n",
       "        vertical-align: middle;\n",
       "    }\n",
       "\n",
       "    .dataframe tbody tr th {\n",
       "        vertical-align: top;\n",
       "    }\n",
       "\n",
       "    .dataframe thead th {\n",
       "        text-align: right;\n",
       "    }\n",
       "</style>\n",
       "<table border=\"1\" class=\"dataframe\">\n",
       "  <thead>\n",
       "    <tr style=\"text-align: right;\">\n",
       "      <th></th>\n",
       "      <th>nr_glos</th>\n",
       "      <th>url</th>\n",
       "      <th>opis</th>\n",
       "      <th>nr_posiedzenia</th>\n",
       "      <th>kadencja</th>\n",
       "      <th>timestamp</th>\n",
       "    </tr>\n",
       "  </thead>\n",
       "  <tbody>\n",
       "    <tr>\n",
       "      <th>7452</th>\n",
       "      <td>65</td>\n",
       "      <td>https://www.sejm.gov.pl/Sejm8.nsf/agent.xsp?sy...</td>\n",
       "      <td>Pkt 1. porz. dzien. Sprawozdanie Komisji o rzą...</td>\n",
       "      <td>76</td>\n",
       "      <td>8</td>\n",
       "      <td>2019-01-16 10:56:57</td>\n",
       "    </tr>\n",
       "    <tr>\n",
       "      <th>8806</th>\n",
       "      <td>241</td>\n",
       "      <td>https://www.sejm.gov.pl/Sejm8.nsf/agent.xsp?sy...</td>\n",
       "      <td>Pkt 21. porz. dzien. Sprawozdanie Komisji o rz...</td>\n",
       "      <td>66</td>\n",
       "      <td>8</td>\n",
       "      <td>2018-07-05 20:04:38</td>\n",
       "    </tr>\n",
       "    <tr>\n",
       "      <th>2735</th>\n",
       "      <td>10</td>\n",
       "      <td>https://www.sejm.gov.pl/Sejm8.nsf/agent.xsp?sy...</td>\n",
       "      <td>Pkt 28. porz. dzien. Sprawozdanie Komisji o uc...</td>\n",
       "      <td>70</td>\n",
       "      <td>7</td>\n",
       "      <td>2014-06-26 09:15:02</td>\n",
       "    </tr>\n",
       "    <tr>\n",
       "      <th>10065</th>\n",
       "      <td>17</td>\n",
       "      <td>https://www.sejm.gov.pl/Sejm8.nsf/agent.xsp?sy...</td>\n",
       "      <td>Pkt 4. porz. dzien. Sprawozdanie Komisji o pos...</td>\n",
       "      <td>55</td>\n",
       "      <td>8</td>\n",
       "      <td>2018-01-10 23:04:47</td>\n",
       "    </tr>\n",
       "    <tr>\n",
       "      <th>351</th>\n",
       "      <td>29</td>\n",
       "      <td>https://www.sejm.gov.pl/Sejm8.nsf/agent.xsp?sy...</td>\n",
       "      <td>Pkt 17. porz. dzien. Sprawozdanie Komisji o po...</td>\n",
       "      <td>98</td>\n",
       "      <td>7</td>\n",
       "      <td>2015-08-05 20:33:10</td>\n",
       "    </tr>\n",
       "  </tbody>\n",
       "</table>\n",
       "</div>"
      ],
      "text/plain": [
       "       nr_glos                                                url  \\\n",
       "7452        65  https://www.sejm.gov.pl/Sejm8.nsf/agent.xsp?sy...   \n",
       "8806       241  https://www.sejm.gov.pl/Sejm8.nsf/agent.xsp?sy...   \n",
       "2735        10  https://www.sejm.gov.pl/Sejm8.nsf/agent.xsp?sy...   \n",
       "10065       17  https://www.sejm.gov.pl/Sejm8.nsf/agent.xsp?sy...   \n",
       "351         29  https://www.sejm.gov.pl/Sejm8.nsf/agent.xsp?sy...   \n",
       "\n",
       "                                                    opis  nr_posiedzenia  \\\n",
       "7452   Pkt 1. porz. dzien. Sprawozdanie Komisji o rzą...              76   \n",
       "8806   Pkt 21. porz. dzien. Sprawozdanie Komisji o rz...              66   \n",
       "2735   Pkt 28. porz. dzien. Sprawozdanie Komisji o uc...              70   \n",
       "10065  Pkt 4. porz. dzien. Sprawozdanie Komisji o pos...              55   \n",
       "351    Pkt 17. porz. dzien. Sprawozdanie Komisji o po...              98   \n",
       "\n",
       "       kadencja           timestamp  \n",
       "7452          8 2019-01-16 10:56:57  \n",
       "8806          8 2018-07-05 20:04:38  \n",
       "2735          7 2014-06-26 09:15:02  \n",
       "10065         8 2018-01-10 23:04:47  \n",
       "351           7 2015-08-05 20:33:10  "
      ]
     },
     "execution_count": 25,
     "metadata": {},
     "output_type": "execute_result"
    }
   ],
   "source": [
    "df.sample(5)"
   ]
  },
  {
   "cell_type": "code",
   "execution_count": 19,
   "metadata": {},
   "outputs": [],
   "source": [
    "columns_to_remove = [ 'godzina', 'data', 'data_godzina' ]\n",
    "for col_to_remove in columns_to_remove:\n",
    "    if col_to_remove in df: del df[col_to_remove]"
   ]
  },
  {
   "cell_type": "code",
   "execution_count": 24,
   "metadata": {},
   "outputs": [],
   "source": [
    "df = df.rename(columns={\"nr_glosowania_na_posiedzeniu\": \"nr_glos\"})"
   ]
  },
  {
   "cell_type": "code",
   "execution_count": 27,
   "metadata": {},
   "outputs": [],
   "source": [
    "df.to_hdf('all_votes.h5', key='df')"
   ]
  },
  {
   "cell_type": "code",
   "execution_count": null,
   "metadata": {},
   "outputs": [],
   "source": []
  }
 ],
 "metadata": {
  "kernelspec": {
   "display_name": "Python 3",
   "language": "python",
   "name": "python3"
  },
  "language_info": {
   "codemirror_mode": {
    "name": "ipython",
    "version": 3
   },
   "file_extension": ".py",
   "mimetype": "text/x-python",
   "name": "python",
   "nbconvert_exporter": "python",
   "pygments_lexer": "ipython3",
   "version": "3.7.1"
  }
 },
 "nbformat": 4,
 "nbformat_minor": 2
}
